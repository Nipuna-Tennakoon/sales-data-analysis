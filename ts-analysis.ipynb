{
 "cells": [
  {
   "cell_type": "markdown",
   "metadata": {},
   "source": [
    "**Literature review**\n",
    "\n",
    "A statistical method for examining data points collected at regular intervals throughout time in order to identify patterns and trends is called time series analysis.\n",
    "\n",
    "Process of time series analysis\n",
    "\n",
    "    - collecting and cleaning data \n",
    "    - create visualizations for features\n",
    "    - observing the stationarity of data\n",
    "    - model selection and training\n",
    "    - get predictions\n",
    "\n",
    "The first two task has been carried out in eda-visualization notebook. I will do check stationarity and chart development in this notebook."
   ]
  },
  {
   "cell_type": "code",
   "execution_count": null,
   "metadata": {},
   "outputs": [],
   "source": []
  },
  {
   "cell_type": "code",
   "execution_count": null,
   "metadata": {},
   "outputs": [],
   "source": []
  }
 ],
 "metadata": {
  "language_info": {
   "name": "python"
  }
 },
 "nbformat": 4,
 "nbformat_minor": 2
}

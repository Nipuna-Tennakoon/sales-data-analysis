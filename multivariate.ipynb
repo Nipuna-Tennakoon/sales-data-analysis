{
 "cells": [
  {
   "cell_type": "code",
   "execution_count": 1,
   "id": "1636eca7",
   "metadata": {},
   "outputs": [],
   "source": [
    "import pandas as pd\n",
    "import numpy as np"
   ]
  },
  {
   "cell_type": "code",
   "execution_count": 2,
   "metadata": {},
   "outputs": [],
   "source": [
    "price_df = pd.read_csv('price_pivot.csv')\n",
    "qty_df = pd.read_csv('qty_pivot.csv')"
   ]
  },
  {
   "cell_type": "code",
   "execution_count": 3,
   "metadata": {},
   "outputs": [
    {
     "data": {
      "text/html": [
       "<div>\n",
       "<style scoped>\n",
       "    .dataframe tbody tr th:only-of-type {\n",
       "        vertical-align: middle;\n",
       "    }\n",
       "\n",
       "    .dataframe tbody tr th {\n",
       "        vertical-align: top;\n",
       "    }\n",
       "\n",
       "    .dataframe thead th {\n",
       "        text-align: right;\n",
       "    }\n",
       "</style>\n",
       "<table border=\"1\" class=\"dataframe\">\n",
       "  <thead>\n",
       "    <tr style=\"text-align: right;\">\n",
       "      <th></th>\n",
       "      <th>date</th>\n",
       "      <th>A</th>\n",
       "      <th>B</th>\n",
       "      <th>C</th>\n",
       "      <th>D</th>\n",
       "      <th>E</th>\n",
       "    </tr>\n",
       "  </thead>\n",
       "  <tbody>\n",
       "    <tr>\n",
       "      <th>0</th>\n",
       "      <td>2022-08-28</td>\n",
       "      <td>54.500000</td>\n",
       "      <td>50.840000</td>\n",
       "      <td>29.920000</td>\n",
       "      <td>21.286667</td>\n",
       "      <td>31.943333</td>\n",
       "    </tr>\n",
       "    <tr>\n",
       "      <th>1</th>\n",
       "      <td>2022-08-29</td>\n",
       "      <td>54.870000</td>\n",
       "      <td>39.526667</td>\n",
       "      <td>34.060000</td>\n",
       "      <td>42.946667</td>\n",
       "      <td>22.993333</td>\n",
       "    </tr>\n",
       "    <tr>\n",
       "      <th>2</th>\n",
       "      <td>2022-08-30</td>\n",
       "      <td>54.483333</td>\n",
       "      <td>40.183333</td>\n",
       "      <td>32.520000</td>\n",
       "      <td>40.583333</td>\n",
       "      <td>26.693333</td>\n",
       "    </tr>\n",
       "    <tr>\n",
       "      <th>3</th>\n",
       "      <td>2022-08-31</td>\n",
       "      <td>52.096667</td>\n",
       "      <td>41.420000</td>\n",
       "      <td>32.293333</td>\n",
       "      <td>31.693333</td>\n",
       "      <td>26.850000</td>\n",
       "    </tr>\n",
       "    <tr>\n",
       "      <th>4</th>\n",
       "      <td>2022-09-01</td>\n",
       "      <td>51.770000</td>\n",
       "      <td>43.150000</td>\n",
       "      <td>36.340000</td>\n",
       "      <td>46.303333</td>\n",
       "      <td>31.306667</td>\n",
       "    </tr>\n",
       "  </tbody>\n",
       "</table>\n",
       "</div>"
      ],
      "text/plain": [
       "         date          A          B          C          D          E\n",
       "0  2022-08-28  54.500000  50.840000  29.920000  21.286667  31.943333\n",
       "1  2022-08-29  54.870000  39.526667  34.060000  42.946667  22.993333\n",
       "2  2022-08-30  54.483333  40.183333  32.520000  40.583333  26.693333\n",
       "3  2022-08-31  52.096667  41.420000  32.293333  31.693333  26.850000\n",
       "4  2022-09-01  51.770000  43.150000  36.340000  46.303333  31.306667"
      ]
     },
     "execution_count": 3,
     "metadata": {},
     "output_type": "execute_result"
    }
   ],
   "source": [
    "price_df.head()"
   ]
  },
  {
   "cell_type": "code",
   "execution_count": 4,
   "id": "da105c89",
   "metadata": {},
   "outputs": [
    {
     "data": {
      "text/html": [
       "<div>\n",
       "<style scoped>\n",
       "    .dataframe tbody tr th:only-of-type {\n",
       "        vertical-align: middle;\n",
       "    }\n",
       "\n",
       "    .dataframe tbody tr th {\n",
       "        vertical-align: top;\n",
       "    }\n",
       "\n",
       "    .dataframe thead th {\n",
       "        text-align: right;\n",
       "    }\n",
       "</style>\n",
       "<table border=\"1\" class=\"dataframe\">\n",
       "  <thead>\n",
       "    <tr style=\"text-align: right;\">\n",
       "      <th></th>\n",
       "      <th>date</th>\n",
       "      <th>A</th>\n",
       "      <th>B</th>\n",
       "      <th>C</th>\n",
       "      <th>D</th>\n",
       "      <th>E</th>\n",
       "    </tr>\n",
       "  </thead>\n",
       "  <tbody>\n",
       "    <tr>\n",
       "      <th>0</th>\n",
       "      <td>2022-08-28</td>\n",
       "      <td>300.922</td>\n",
       "      <td>63.0</td>\n",
       "      <td>79.0</td>\n",
       "      <td>42.0</td>\n",
       "      <td>187.0</td>\n",
       "    </tr>\n",
       "    <tr>\n",
       "      <th>1</th>\n",
       "      <td>2022-08-29</td>\n",
       "      <td>373.880</td>\n",
       "      <td>135.0</td>\n",
       "      <td>178.0</td>\n",
       "      <td>39.0</td>\n",
       "      <td>414.0</td>\n",
       "    </tr>\n",
       "    <tr>\n",
       "      <th>2</th>\n",
       "      <td>2022-08-30</td>\n",
       "      <td>332.346</td>\n",
       "      <td>146.0</td>\n",
       "      <td>174.0</td>\n",
       "      <td>44.0</td>\n",
       "      <td>398.0</td>\n",
       "    </tr>\n",
       "    <tr>\n",
       "      <th>3</th>\n",
       "      <td>2022-08-31</td>\n",
       "      <td>395.705</td>\n",
       "      <td>149.0</td>\n",
       "      <td>188.0</td>\n",
       "      <td>56.0</td>\n",
       "      <td>420.0</td>\n",
       "    </tr>\n",
       "    <tr>\n",
       "      <th>4</th>\n",
       "      <td>2022-09-01</td>\n",
       "      <td>505.785</td>\n",
       "      <td>140.0</td>\n",
       "      <td>181.0</td>\n",
       "      <td>60.0</td>\n",
       "      <td>431.0</td>\n",
       "    </tr>\n",
       "  </tbody>\n",
       "</table>\n",
       "</div>"
      ],
      "text/plain": [
       "         date        A      B      C     D      E\n",
       "0  2022-08-28  300.922   63.0   79.0  42.0  187.0\n",
       "1  2022-08-29  373.880  135.0  178.0  39.0  414.0\n",
       "2  2022-08-30  332.346  146.0  174.0  44.0  398.0\n",
       "3  2022-08-31  395.705  149.0  188.0  56.0  420.0\n",
       "4  2022-09-01  505.785  140.0  181.0  60.0  431.0"
      ]
     },
     "execution_count": 4,
     "metadata": {},
     "output_type": "execute_result"
    }
   ],
   "source": [
    "qty_df.head()"
   ]
  },
  {
   "cell_type": "code",
   "execution_count": 5,
   "id": "5dc61347",
   "metadata": {},
   "outputs": [
    {
     "data": {
      "text/plain": [
       "True"
      ]
     },
     "execution_count": 5,
     "metadata": {},
     "output_type": "execute_result"
    }
   ],
   "source": [
    "len(price_df) == len(qty_df)"
   ]
  },
  {
   "cell_type": "code",
   "execution_count": 42,
   "id": "93986439",
   "metadata": {},
   "outputs": [
    {
     "name": "stdout",
     "output_type": "stream",
     "text": [
      "<class 'pandas.core.frame.DataFrame'>\n",
      "RangeIndex: 761 entries, 0 to 760\n",
      "Data columns (total 6 columns):\n",
      " #   Column  Non-Null Count  Dtype  \n",
      "---  ------  --------------  -----  \n",
      " 0   date    761 non-null    object \n",
      " 1   A       761 non-null    float64\n",
      " 2   B       761 non-null    float64\n",
      " 3   C       761 non-null    float64\n",
      " 4   D       761 non-null    float64\n",
      " 5   E       761 non-null    float64\n",
      "dtypes: float64(5), object(1)\n",
      "memory usage: 35.8+ KB\n"
     ]
    }
   ],
   "source": [
    "qty_df.info()"
   ]
  },
  {
   "cell_type": "code",
   "execution_count": 44,
   "id": "745e17d8",
   "metadata": {},
   "outputs": [
    {
     "data": {
      "text/plain": [
       "1       54.870000\n",
       "2       54.483333\n",
       "3       52.096667\n",
       "4       51.770000\n",
       "5       51.726667\n",
       "          ...    \n",
       "756    132.542500\n",
       "757    133.070000\n",
       "758    130.175000\n",
       "759    130.682500\n",
       "760    130.585000\n",
       "Name: A, Length: 760, dtype: float64"
      ]
     },
     "execution_count": 44,
     "metadata": {},
     "output_type": "execute_result"
    }
   ],
   "source": [
    "price_df['A'][1:]"
   ]
  },
  {
   "cell_type": "code",
   "execution_count": 48,
   "id": "b96db0e1",
   "metadata": {},
   "outputs": [
    {
     "name": "stdout",
     "output_type": "stream",
     "text": [
      "Covariance between demand and price for A is 1135.929390774091\n",
      "Covariance between demand and price for B is -59.94583201147633\n",
      "Covariance between demand and price for C is -75.217607149874\n",
      "Covariance between demand and price for D is 8.079704104835546\n",
      "Covariance between demand and price for E is -72.3057647152301\n"
     ]
    }
   ],
   "source": [
    "#check the covariance between price and quantity\n",
    "l=[]\n",
    "products = list(price_df.columns[1:])\n",
    "for i in range(len(products)):\n",
    "    cov = np.cov(qty_df[products[i]][:-1], price_df[products[i]][1:])\n",
    "    l.append(cov[0][1])\n",
    "    print('Covariance between demand and price for {} is {}'.format(products[i], cov[0][1]))"
   ]
  },
  {
   "cell_type": "code",
   "execution_count": 56,
   "id": "05651283",
   "metadata": {},
   "outputs": [
    {
     "name": "stdout",
     "output_type": "stream",
     "text": [
      "Correlation between demand and price for A is 0.2957153797133746\n",
      "Correlation between demand and price for B is -0.4755523348398585\n",
      "Correlation between demand and price for C is -0.48097887416226\n",
      "Correlation between demand and price for D is 0.0010131692529479269\n",
      "Correlation between demand and price for E is -0.48972347878805583\n"
     ]
    }
   ],
   "source": [
    "#correlation between price and quantity\n",
    "l = []  \n",
    "products = list(price_df.columns[1:])\n",
    "for i in range(len(products)):\n",
    "    corr = np.corrcoef(qty_df[products[i]], price_df[products[i]])\n",
    "    l.append(corr[0][1])\n",
    "    print('Correlation between demand and price for {} is {}'.format(products[i], corr[0][1]))"
   ]
  },
  {
   "cell_type": "code",
   "execution_count": null,
   "id": "a0d99afc",
   "metadata": {},
   "outputs": [],
   "source": []
  }
 ],
 "metadata": {
  "kernelspec": {
   "display_name": "Python 3",
   "language": "python",
   "name": "python3"
  },
  "language_info": {
   "codemirror_mode": {
    "name": "ipython",
    "version": 3
   },
   "file_extension": ".py",
   "mimetype": "text/x-python",
   "name": "python",
   "nbconvert_exporter": "python",
   "pygments_lexer": "ipython3",
   "version": "3.12.4"
  }
 },
 "nbformat": 4,
 "nbformat_minor": 5
}

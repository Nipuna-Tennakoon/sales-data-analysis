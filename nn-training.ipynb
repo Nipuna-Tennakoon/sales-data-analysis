{
 "cells": [
  {
   "cell_type": "code",
   "execution_count": 1,
   "id": "93468d43",
   "metadata": {},
   "outputs": [],
   "source": [
    "import pandas as pd\n",
    "import numpy as np\n",
    "import matplotlib.pyplot as plt\n",
    "import seaborn as sns\n",
    "from sklearn.preprocessing import StandardScaler\n",
    "from tensorflow.keras.models import Sequential\n",
    "from tensorflow.keras.layers import LSTM, Dense\n",
    "from sklearn.model_selection import train_test_split\n",
    "from sklearn.metrics import mean_squared_error"
   ]
  },
  {
   "cell_type": "code",
   "execution_count": 2,
   "metadata": {},
   "outputs": [],
   "source": [
    "#import data set\n",
    "df = pd.read_csv('price_pivot.csv')"
   ]
  },
  {
   "cell_type": "code",
   "execution_count": 3,
   "id": "49a1b46a",
   "metadata": {},
   "outputs": [],
   "source": [
    "scaler = StandardScaler()\n",
    "df['scaled_A'] = scaler.fit_transform(df['A'].values.reshape(-1, 1))"
   ]
  },
  {
   "cell_type": "code",
   "execution_count": 4,
   "id": "696caaba",
   "metadata": {},
   "outputs": [
    {
     "data": {
      "text/html": [
       "<div>\n",
       "<style scoped>\n",
       "    .dataframe tbody tr th:only-of-type {\n",
       "        vertical-align: middle;\n",
       "    }\n",
       "\n",
       "    .dataframe tbody tr th {\n",
       "        vertical-align: top;\n",
       "    }\n",
       "\n",
       "    .dataframe thead th {\n",
       "        text-align: right;\n",
       "    }\n",
       "</style>\n",
       "<table border=\"1\" class=\"dataframe\">\n",
       "  <thead>\n",
       "    <tr style=\"text-align: right;\">\n",
       "      <th></th>\n",
       "      <th>date</th>\n",
       "      <th>A</th>\n",
       "      <th>B</th>\n",
       "      <th>C</th>\n",
       "      <th>D</th>\n",
       "      <th>E</th>\n",
       "      <th>scaled_A</th>\n",
       "    </tr>\n",
       "  </thead>\n",
       "  <tbody>\n",
       "    <tr>\n",
       "      <th>0</th>\n",
       "      <td>2022-08-28</td>\n",
       "      <td>54.500000</td>\n",
       "      <td>50.840000</td>\n",
       "      <td>29.920000</td>\n",
       "      <td>21.286667</td>\n",
       "      <td>31.943333</td>\n",
       "      <td>-2.043023</td>\n",
       "    </tr>\n",
       "    <tr>\n",
       "      <th>1</th>\n",
       "      <td>2022-08-29</td>\n",
       "      <td>54.870000</td>\n",
       "      <td>39.526667</td>\n",
       "      <td>34.060000</td>\n",
       "      <td>42.946667</td>\n",
       "      <td>22.993333</td>\n",
       "      <td>-2.028754</td>\n",
       "    </tr>\n",
       "    <tr>\n",
       "      <th>2</th>\n",
       "      <td>2022-08-30</td>\n",
       "      <td>54.483333</td>\n",
       "      <td>40.183333</td>\n",
       "      <td>32.520000</td>\n",
       "      <td>40.583333</td>\n",
       "      <td>26.693333</td>\n",
       "      <td>-2.043666</td>\n",
       "    </tr>\n",
       "    <tr>\n",
       "      <th>3</th>\n",
       "      <td>2022-08-31</td>\n",
       "      <td>52.096667</td>\n",
       "      <td>41.420000</td>\n",
       "      <td>32.293333</td>\n",
       "      <td>31.693333</td>\n",
       "      <td>26.850000</td>\n",
       "      <td>-2.135711</td>\n",
       "    </tr>\n",
       "    <tr>\n",
       "      <th>4</th>\n",
       "      <td>2022-09-01</td>\n",
       "      <td>51.770000</td>\n",
       "      <td>43.150000</td>\n",
       "      <td>36.340000</td>\n",
       "      <td>46.303333</td>\n",
       "      <td>31.306667</td>\n",
       "      <td>-2.148310</td>\n",
       "    </tr>\n",
       "  </tbody>\n",
       "</table>\n",
       "</div>"
      ],
      "text/plain": [
       "         date          A          B          C          D          E  scaled_A\n",
       "0  2022-08-28  54.500000  50.840000  29.920000  21.286667  31.943333 -2.043023\n",
       "1  2022-08-29  54.870000  39.526667  34.060000  42.946667  22.993333 -2.028754\n",
       "2  2022-08-30  54.483333  40.183333  32.520000  40.583333  26.693333 -2.043666\n",
       "3  2022-08-31  52.096667  41.420000  32.293333  31.693333  26.850000 -2.135711\n",
       "4  2022-09-01  51.770000  43.150000  36.340000  46.303333  31.306667 -2.148310"
      ]
     },
     "execution_count": 4,
     "metadata": {},
     "output_type": "execute_result"
    }
   ],
   "source": [
    "df.head()"
   ]
  },
  {
   "cell_type": "code",
   "execution_count": 5,
   "id": "a506d080",
   "metadata": {},
   "outputs": [],
   "source": [
    "df['date'] = pd.to_datetime(df['date'])"
   ]
  },
  {
   "cell_type": "code",
   "execution_count": 6,
   "id": "38f121be",
   "metadata": {},
   "outputs": [
    {
     "data": {
      "text/html": [
       "<div>\n",
       "<style scoped>\n",
       "    .dataframe tbody tr th:only-of-type {\n",
       "        vertical-align: middle;\n",
       "    }\n",
       "\n",
       "    .dataframe tbody tr th {\n",
       "        vertical-align: top;\n",
       "    }\n",
       "\n",
       "    .dataframe thead th {\n",
       "        text-align: right;\n",
       "    }\n",
       "</style>\n",
       "<table border=\"1\" class=\"dataframe\">\n",
       "  <thead>\n",
       "    <tr style=\"text-align: right;\">\n",
       "      <th></th>\n",
       "      <th>date</th>\n",
       "      <th>A</th>\n",
       "      <th>B</th>\n",
       "      <th>C</th>\n",
       "      <th>D</th>\n",
       "      <th>E</th>\n",
       "      <th>scaled_A</th>\n",
       "    </tr>\n",
       "  </thead>\n",
       "  <tbody>\n",
       "    <tr>\n",
       "      <th>0</th>\n",
       "      <td>2022-08-28</td>\n",
       "      <td>54.500000</td>\n",
       "      <td>50.840000</td>\n",
       "      <td>29.920000</td>\n",
       "      <td>21.286667</td>\n",
       "      <td>31.943333</td>\n",
       "      <td>-2.043023</td>\n",
       "    </tr>\n",
       "    <tr>\n",
       "      <th>1</th>\n",
       "      <td>2022-08-29</td>\n",
       "      <td>54.870000</td>\n",
       "      <td>39.526667</td>\n",
       "      <td>34.060000</td>\n",
       "      <td>42.946667</td>\n",
       "      <td>22.993333</td>\n",
       "      <td>-2.028754</td>\n",
       "    </tr>\n",
       "    <tr>\n",
       "      <th>2</th>\n",
       "      <td>2022-08-30</td>\n",
       "      <td>54.483333</td>\n",
       "      <td>40.183333</td>\n",
       "      <td>32.520000</td>\n",
       "      <td>40.583333</td>\n",
       "      <td>26.693333</td>\n",
       "      <td>-2.043666</td>\n",
       "    </tr>\n",
       "    <tr>\n",
       "      <th>3</th>\n",
       "      <td>2022-08-31</td>\n",
       "      <td>52.096667</td>\n",
       "      <td>41.420000</td>\n",
       "      <td>32.293333</td>\n",
       "      <td>31.693333</td>\n",
       "      <td>26.850000</td>\n",
       "      <td>-2.135711</td>\n",
       "    </tr>\n",
       "    <tr>\n",
       "      <th>4</th>\n",
       "      <td>2022-09-01</td>\n",
       "      <td>51.770000</td>\n",
       "      <td>43.150000</td>\n",
       "      <td>36.340000</td>\n",
       "      <td>46.303333</td>\n",
       "      <td>31.306667</td>\n",
       "      <td>-2.148310</td>\n",
       "    </tr>\n",
       "  </tbody>\n",
       "</table>\n",
       "</div>"
      ],
      "text/plain": [
       "        date          A          B          C          D          E  scaled_A\n",
       "0 2022-08-28  54.500000  50.840000  29.920000  21.286667  31.943333 -2.043023\n",
       "1 2022-08-29  54.870000  39.526667  34.060000  42.946667  22.993333 -2.028754\n",
       "2 2022-08-30  54.483333  40.183333  32.520000  40.583333  26.693333 -2.043666\n",
       "3 2022-08-31  52.096667  41.420000  32.293333  31.693333  26.850000 -2.135711\n",
       "4 2022-09-01  51.770000  43.150000  36.340000  46.303333  31.306667 -2.148310"
      ]
     },
     "execution_count": 6,
     "metadata": {},
     "output_type": "execute_result"
    }
   ],
   "source": [
    "df.head()"
   ]
  },
  {
   "cell_type": "code",
   "execution_count": 7,
   "id": "f9712d98",
   "metadata": {},
   "outputs": [
    {
     "data": {
      "text/plain": [
       "761"
      ]
     },
     "execution_count": 7,
     "metadata": {},
     "output_type": "execute_result"
    }
   ],
   "source": [
    "len(df)"
   ]
  },
  {
   "cell_type": "code",
   "execution_count": 8,
   "metadata": {},
   "outputs": [],
   "source": [
    "def create_sequences(data, window_size):\n",
    "    X, y = [], []\n",
    "    for i in range(len(data) - window_size):\n",
    "        X.append(data[i:i+window_size])\n",
    "        y.append(data[i+window_size])\n",
    "    return np.array(X), np.array(y)\n",
    "\n",
    "train_size = int(len(df) * 0.8)\n",
    "test_size = len(df) - train_size\n",
    "window_size = 10\n",
    "X, y = create_sequences(df['scaled_A'][:train_size].values, window_size)\n",
    "X_test, y_test = create_sequences(df['scaled_A'][train_size:].values, window_size)"
   ]
  },
  {
   "cell_type": "code",
   "execution_count": 9,
   "id": "447261cd",
   "metadata": {},
   "outputs": [
    {
     "data": {
      "text/plain": [
       "(598, 10)"
      ]
     },
     "execution_count": 9,
     "metadata": {},
     "output_type": "execute_result"
    }
   ],
   "source": [
    "X.shape"
   ]
  },
  {
   "cell_type": "code",
   "execution_count": 10,
   "id": "dcb87930",
   "metadata": {},
   "outputs": [
    {
     "data": {
      "text/plain": [
       "array([-2.16605024e+00, -2.15075223e+00, -2.14895246e+00, -2.08943162e+00,\n",
       "       -2.08891740e+00, -2.09431670e+00, -2.13365445e+00, -2.09740201e+00,\n",
       "       -2.24215464e+00, -2.11257147e+00, -2.15448032e+00, -2.14830969e+00,\n",
       "       -2.15653719e+00, -2.17517763e+00, -2.17954849e+00, -2.25269613e+00,\n",
       "       -2.26413750e+00, -2.28496337e+00, -2.27043669e+00, -2.27249356e+00,\n",
       "       -2.17453485e+00, -2.06873431e+00, -2.00792792e+00, -2.00998479e+00,\n",
       "       -2.00844214e+00, -2.02245460e+00, -2.06127813e+00, -2.11141448e+00,\n",
       "       -2.02374015e+00, -1.96190532e+00, -1.96421931e+00, -1.96537630e+00,\n",
       "       -1.95766302e+00, -1.90585546e+00, -1.89647096e+00, -1.91292597e+00,\n",
       "       -1.89197155e+00, -1.90791233e+00, -1.91164042e+00, -1.94005102e+00,\n",
       "       -1.89942772e+00, -1.89312854e+00, -1.77640084e+00, -1.71443746e+00,\n",
       "       -1.68679819e+00, -1.65697349e+00, -1.64501790e+00, -1.64797466e+00,\n",
       "       -1.62303504e+00, -1.63421930e+00, -1.61802140e+00, -1.65157419e+00,\n",
       "       -1.64720333e+00, -1.64527501e+00, -1.60349472e+00, -1.53240395e+00,\n",
       "       -1.51594894e+00, -1.46105607e+00, -1.48856679e+00, -1.44395829e+00,\n",
       "       -1.46079896e+00, -1.44280130e+00, -1.39497894e+00, -1.33160145e+00,\n",
       "       -1.31424656e+00, -1.29097816e+00, -1.26141057e+00, -1.24778377e+00,\n",
       "       -1.30293375e+00, -1.32581649e+00, -1.26848108e+00, -1.28763573e+00,\n",
       "       -1.21667352e+00, -1.12874208e+00, -1.11807204e+00, -1.14429720e+00,\n",
       "       -1.15792401e+00, -1.11948614e+00, -1.11768637e+00, -1.20368949e+00,\n",
       "       -1.12437122e+00, -1.10920176e+00, -1.12398556e+00, -1.13182740e+00,\n",
       "       -1.18093530e+00, -1.29856289e+00, -1.34188583e+00, -1.16242342e+00,\n",
       "       -1.14301166e+00, -1.22245848e+00, -1.35756951e+00, -1.23981337e+00,\n",
       "       -1.27246628e+00, -1.30884727e+00, -1.33198712e+00, -1.32761626e+00,\n",
       "       -1.31784610e+00, -1.28802140e+00, -1.29612035e+00, -1.28339343e+00,\n",
       "       -1.32067430e+00, -1.30511918e+00, -1.33224423e+00, -1.30293375e+00,\n",
       "       -1.25909658e+00, -1.11575805e+00, -1.07192089e+00, -1.07140667e+00,\n",
       "       -1.09197543e+00, -1.09338953e+00, -1.15085350e+00, -1.13619826e+00,\n",
       "       -1.09737473e+00, -1.03901088e+00, -1.06613593e+00, -9.01714419e-01,\n",
       "       -8.87830508e-01, -1.04775260e+00, -1.21873040e+00, -1.30987570e+00,\n",
       "       -1.32298829e+00, -1.32710204e+00, -1.23659950e+00, -1.25523994e+00,\n",
       "       -1.17270780e+00, -1.27825124e+00, -1.13298439e+00, -1.12591388e+00,\n",
       "       -1.09338953e+00, -1.08760457e+00, -1.08361937e+00, -1.07102101e+00,\n",
       "       -1.12514255e+00, -1.08824734e+00, -1.14031201e+00, -1.05932252e+00,\n",
       "       -1.07024968e+00, -1.05803698e+00, -1.06163651e+00, -9.39380957e-01,\n",
       "       -8.54020612e-01, -7.74573786e-01, -7.74830895e-01, -7.78430428e-01,\n",
       "       -7.71745582e-01, -7.87943478e-01, -7.62361086e-01, -7.84601055e-01,\n",
       "       -7.89357580e-01, -7.62361086e-01, -5.89454967e-01, -6.32135139e-01,\n",
       "       -5.99482236e-01, -7.45777525e-01, -6.70573005e-01, -5.90226295e-01,\n",
       "       -5.78399260e-01, -5.10522359e-01, -5.18107089e-01, -4.37374715e-01,\n",
       "       -6.13109038e-01, -6.50775576e-01, -5.43689481e-01, -4.74912698e-01,\n",
       "       -4.68356406e-01, -4.56657925e-01, -4.11406658e-01, -3.85567157e-01,\n",
       "       -3.79267975e-01, -3.19232913e-01, -2.99435484e-01, -3.05606111e-01,\n",
       "       -3.02906462e-01, -3.13447950e-01, -3.25146431e-01, -3.22703891e-01,\n",
       "       -3.47129291e-01, -3.10619746e-01, -3.29003073e-01, -2.99049820e-01,\n",
       "       -3.07791542e-01, -1.86307317e-01, -1.94791929e-01, -1.89006966e-01,\n",
       "       -1.78336923e-01, -1.84121886e-01, -1.77565595e-01, -2.06361855e-01,\n",
       "       -2.76295632e-01, -3.22703891e-01, -3.50600269e-01, -2.24488073e-01,\n",
       "       -1.61753362e-01, -1.43755699e-01, -1.32057218e-01, -1.37842182e-01,\n",
       "       -2.36315109e-01, -3.29003073e-01, -3.16918928e-01, -3.37487686e-01,\n",
       "       -3.13962169e-01, -3.26174869e-01, -3.43786868e-01, -3.24375103e-01,\n",
       "       -6.72656318e-02,  1.16439085e-01, -9.20766957e-02, -7.70357917e-02,\n",
       "        6.19318772e-02,  2.84203015e-01,  2.89987978e-01,  2.77903833e-01,\n",
       "        1.70946293e-01,  3.11585173e-01,  3.04900327e-01,  3.17627246e-01,\n",
       "        2.79575044e-01,  2.55149645e-01,  2.11826699e-01,  3.46423507e-01,\n",
       "        3.77919417e-01,  3.77276643e-01,  3.89875007e-01,  2.95515831e-01,\n",
       "        2.74689964e-01,  2.35480770e-01,  2.60034724e-01,  1.97814233e-01,\n",
       "        2.29695807e-01,  1.84701650e-01,  1.50120426e-01,  1.60533359e-01,\n",
       "        1.41121594e-01,  9.08566927e-02,  9.45847800e-02,  1.31222880e-01,\n",
       "        9.50989990e-02,  5.43471479e-02,  5.84608994e-02,  1.35465186e-01,\n",
       "        1.48834878e-01,  1.87272744e-01,  1.83801766e-01,  1.99999663e-01,\n",
       "        1.74802935e-01,  1.42021477e-01,  7.39823211e-04, -7.93497769e-02,\n",
       "       -1.54811407e-01, -1.95306148e-01, -1.68052544e-01,  1.70662746e-02,\n",
       "       -4.75967573e-02, -1.71394967e-01,  1.52434411e-01,  1.96143021e-01,\n",
       "        2.53606988e-01,  2.17097443e-01,  3.73779228e-02, -1.29357569e-01,\n",
       "       -2.18446001e-01, -4.29687868e-02,  7.04164898e-02, -9.28744615e-03,\n",
       "        3.31356165e-02, -2.05976191e-01, -2.43899838e-01, -1.06731936e-01,\n",
       "       -1.40798940e-01, -1.13416782e-01, -1.63167464e-01, -2.40171751e-01,\n",
       "       -2.46599488e-01, -2.34772452e-01, -2.29142481e-02, -1.85021769e-01,\n",
       "       -4.67970742e-01, -3.77082544e-01, -3.95337316e-01, -9.14698447e-01,\n",
       "       -1.41850446e+00, -1.24379857e+00, -1.10148848e+00, -8.55691824e-01,\n",
       "       -8.30109432e-01, -7.38064241e-01, -6.99369266e-01, -6.83814143e-01,\n",
       "       -6.80600274e-01, -5.93440164e-01, -6.02824659e-01, -5.86241099e-01,\n",
       "       -6.25578848e-01, -7.51433933e-01, -7.88714807e-01, -7.92185785e-01,\n",
       "       -8.87316289e-01, -7.63646633e-01, -7.70074370e-01, -7.13510287e-01,\n",
       "       -4.97409776e-01, -6.49875693e-01, -6.91398872e-01, -4.09349783e-01,\n",
       "       -6.78414844e-01, -6.40105533e-01, -6.05395754e-01, -3.91737784e-01,\n",
       "       -4.93938799e-01, -4.31975416e-01, -4.30689869e-01, -1.61624808e-01,\n",
       "       -1.69466646e-01, -1.90421068e-01, -3.44172532e-01, -3.82996062e-01,\n",
       "       -4.71698829e-01, -3.90837901e-01, -5.01716360e-01, -5.14443279e-01,\n",
       "       -2.86065791e-01, -5.69528983e-01, -5.34819204e-01, -6.32135139e-01,\n",
       "       -6.42290963e-01, -6.57846086e-01, -6.31492365e-01, -6.38048657e-01,\n",
       "       -6.30463927e-01, -6.53989444e-01, -8.30109432e-01, -8.08126572e-01,\n",
       "       -8.16096965e-01, -8.00541842e-01, -8.23681695e-01, -9.16626768e-01,\n",
       "       -7.23151892e-01, -7.03483017e-01, -7.38321350e-01, -6.96669616e-01,\n",
       "       -7.11581966e-01, -7.10553528e-01, -7.05539893e-01, -7.27522753e-01,\n",
       "       -7.23280446e-01, -7.23280446e-01, -7.15438608e-01, -1.06266495e+00,\n",
       "       -7.35621701e-01, -7.10810637e-01, -7.24051775e-01, -7.46548854e-01,\n",
       "       -6.34449124e-01, -4.93038915e-01, -4.73755705e-01, -6.40619752e-01,\n",
       "       -7.27651307e-01, -4.77869457e-01, -4.82368872e-01, -5.66058005e-01,\n",
       "       -4.67585078e-01, -7.52783758e-01, -4.71955939e-01, -4.79926332e-01,\n",
       "       -4.64628319e-01, -4.18348614e-01, -2.85551572e-01, -1.61008471e-02,\n",
       "       -1.22672723e-01, -1.27943467e-01, -1.83736222e-01, -2.13689475e-01,\n",
       "       -9.60618925e-02, -1.18044752e-01, -1.34242649e-01, -1.26272255e-01,\n",
       "       -1.10717132e-01, -1.14445220e-01, -1.48126560e-01, -1.36042415e-01,\n",
       "       -1.68052544e-01, -1.40027612e-01, -1.48769334e-01, -1.87849974e-01,\n",
       "       -1.26015146e-01,  1.13867990e-01,  1.23638150e-01,  1.04869159e-01,\n",
       "        1.32379872e-01,  7.15734824e-02,  1.35850850e-01,  2.53221323e-01,\n",
       "        1.84444540e-01,  2.39594522e-01,  2.02570758e-01,  2.51421557e-01,\n",
       "        2.66205352e-01,  2.43965383e-01,  2.06555955e-01,  2.40751514e-01,\n",
       "        2.51035893e-01,  2.63505702e-01,  2.66205352e-01,  3.26626077e-01,\n",
       "        2.38437529e-01,  1.35593741e-01,  1.64132892e-01,  3.13899159e-01,\n",
       "        3.31896822e-01,  2.95001612e-01,  2.70061994e-01,  3.10428181e-01,\n",
       "        9.54846632e-02,  1.44335463e-01,  1.46263784e-01,  3.24312092e-01,\n",
       "        3.19169903e-01,  2.89730868e-01,  3.41538427e-01,  3.13127830e-01,\n",
       "        3.84861373e-01,  3.53622572e-01,  3.12613611e-01,  3.46423507e-01,\n",
       "        3.52594134e-01,  3.83447270e-01,  3.81133285e-01,  4.30112639e-01,\n",
       "        3.97459737e-01,  4.04915911e-01,  3.83704380e-01,  3.85761256e-01,\n",
       "        4.19185487e-01,  3.24569202e-01,  4.61094331e-01,  4.97732430e-01,\n",
       "        2.72375979e-01,  1.85987197e-01,  1.66961096e-01,  3.45909288e-01,\n",
       "        4.10315210e-01,  4.61222885e-01,  4.63022652e-01,  4.50038623e-01,\n",
       "        4.64950973e-01,  4.49010185e-01,  4.61222885e-01,  4.80634650e-01,\n",
       "        4.97603875e-01,  5.81678672e-01,  5.87335081e-01,  5.21000837e-01,\n",
       "        5.48768660e-01,  5.48382996e-01,  5.27428574e-01,  1.67732424e-01,\n",
       "        3.63007067e-01,  3.64935389e-01,  3.94631532e-01,  3.80233402e-01,\n",
       "        4.92076022e-01,  5.47226003e-01,  5.15087319e-01,  4.64468892e-01,\n",
       "        4.79895461e-01,  4.90886891e-01,  4.59744506e-01,  4.67457790e-01,\n",
       "        5.00624912e-01,  4.30048362e-01,  4.46149843e-01,  4.40461296e-01,\n",
       "        4.84812679e-01,  4.66300797e-01,  4.86355336e-01,  4.70253855e-01,\n",
       "        4.03726780e-01,  3.61400133e-01,  4.92140299e-01,  4.43160945e-01,\n",
       "        7.11776065e-01,  7.43979026e-01,  7.10715488e-01,  6.93457015e-01,\n",
       "        4.42775281e-01,  4.44800018e-01,  5.67537651e-01,  6.42260091e-01,\n",
       "        6.49973376e-01,  6.36764376e-01,  5.96848131e-01,  6.01572518e-01,\n",
       "        6.33679063e-01,  7.95368781e-01,  9.00655110e-01,  8.32296129e-01,\n",
       "        6.26929939e-01,  6.15360013e-01,  6.85358066e-01,  6.17288334e-01,\n",
       "        5.86628030e-01,  6.51612448e-01,  6.48237887e-01,  7.46196595e-01,\n",
       "        8.85614205e-01,  9.83958578e-01,  1.00671277e+00,  9.78752111e-01,\n",
       "        9.78559279e-01,  1.04036197e+00,  1.11710915e+00,  1.11816972e+00,\n",
       "        1.02242858e+00,  1.01751136e+00,  1.02454974e+00,  1.02599598e+00,\n",
       "        1.05925951e+00,  1.01818628e+00,  9.87911636e-01,  1.00198838e+00,\n",
       "        9.43271004e-01,  9.81258929e-01,  9.73834893e-01,  9.66314441e-01,\n",
       "        1.03264868e+00,  1.07719290e+00,  1.20272660e+00,  1.39565512e+00,\n",
       "        1.42959357e+00,  1.42409785e+00,  1.33809474e+00,  1.16155694e+00,\n",
       "        1.21815317e+00,  1.24418550e+00,  1.22557720e+00,  1.20446209e+00,\n",
       "        1.21998507e+00,  1.26655403e+00,  1.17630860e+00,  1.16011070e+00,\n",
       "        1.16483509e+00,  1.14940852e+00,  1.16589567e+00,  1.16194261e+00,\n",
       "        1.15365083e+00,  1.16589567e+00,  1.23550806e+00,  1.37376867e+00,\n",
       "        1.34089080e+00,  1.36673030e+00,  1.35824569e+00,  1.31437639e+00,\n",
       "        1.16242469e+00,  1.11923030e+00,  1.00950883e+00,  9.93407351e-01,\n",
       "        9.55419427e-01,  9.72581484e-01,  9.38643034e-01,  9.82898001e-01,\n",
       "        1.12559376e+00,  1.32006493e+00,  1.40876770e+00,  1.45610798e+00,\n",
       "        1.45311908e+00,  1.41059961e+00,  1.13311421e+00,  9.93985847e-01,\n",
       "        1.02001818e+00,  1.12086937e+00,  1.10033275e+00,  1.10091125e+00,\n",
       "        1.08693092e+00,  1.07844631e+00,  1.00729126e+00,  1.07796423e+00,\n",
       "        1.20957214e+00,  1.24061811e+00,  1.25064538e+00,  1.25903357e+00,\n",
       "        1.24138944e+00,  1.16136411e+00,  1.20349793e+00,  1.14834795e+00,\n",
       "        1.09830802e+00,  1.16290677e+00,  1.21718901e+00,  1.26231172e+00,\n",
       "        1.14275581e+00,  1.16464226e+00,  1.14487697e+00,  1.22046715e+00,\n",
       "        1.24524608e+00,  1.24707798e+00,  1.22846968e+00,  1.27243540e+00,\n",
       "        1.24148585e+00,  1.23107292e+00])"
      ]
     },
     "execution_count": 10,
     "metadata": {},
     "output_type": "execute_result"
    }
   ],
   "source": [
    "y"
   ]
  },
  {
   "cell_type": "code",
   "execution_count": 11,
   "id": "955abd94",
   "metadata": {},
   "outputs": [],
   "source": [
    "# Reshape for LSTM: [samples, time_steps, features]\n",
    "X = X.reshape((X.shape[0], X.shape[1], 1))\n",
    "X_test = X_test.reshape((X_test.shape[0], X_test.shape[1], 1))"
   ]
  },
  {
   "cell_type": "code",
   "execution_count": 12,
   "id": "95bf67e2",
   "metadata": {},
   "outputs": [
    {
     "data": {
      "text/plain": [
       "(598, 10, 1)"
      ]
     },
     "execution_count": 12,
     "metadata": {},
     "output_type": "execute_result"
    }
   ],
   "source": [
    "X.shape"
   ]
  },
  {
   "cell_type": "code",
   "execution_count": 13,
   "id": "44a5595d",
   "metadata": {},
   "outputs": [
    {
     "name": "stderr",
     "output_type": "stream",
     "text": [
      "c:\\Users\\asus\\AppData\\Local\\Programs\\Python\\Python312\\Lib\\site-packages\\keras\\src\\layers\\rnn\\rnn.py:200: UserWarning: Do not pass an `input_shape`/`input_dim` argument to a layer. When using Sequential models, prefer using an `Input(shape)` object as the first layer in the model instead.\n",
      "  super().__init__(**kwargs)\n"
     ]
    },
    {
     "data": {
      "text/html": [
       "<pre style=\"white-space:pre;overflow-x:auto;line-height:normal;font-family:Menlo,'DejaVu Sans Mono',consolas,'Courier New',monospace\"><span style=\"font-weight: bold\">Model: \"sequential\"</span>\n",
       "</pre>\n"
      ],
      "text/plain": [
       "\u001b[1mModel: \"sequential\"\u001b[0m\n"
      ]
     },
     "metadata": {},
     "output_type": "display_data"
    },
    {
     "data": {
      "text/html": [
       "<pre style=\"white-space:pre;overflow-x:auto;line-height:normal;font-family:Menlo,'DejaVu Sans Mono',consolas,'Courier New',monospace\">┏━━━━━━━━━━━━━━━━━━━━━━━━━━━━━━━━━┳━━━━━━━━━━━━━━━━━━━━━━━━┳━━━━━━━━━━━━━━━┓\n",
       "┃<span style=\"font-weight: bold\"> Layer (type)                    </span>┃<span style=\"font-weight: bold\"> Output Shape           </span>┃<span style=\"font-weight: bold\">       Param # </span>┃\n",
       "┡━━━━━━━━━━━━━━━━━━━━━━━━━━━━━━━━━╇━━━━━━━━━━━━━━━━━━━━━━━━╇━━━━━━━━━━━━━━━┩\n",
       "│ lstm (<span style=\"color: #0087ff; text-decoration-color: #0087ff\">LSTM</span>)                     │ (<span style=\"color: #00d7ff; text-decoration-color: #00d7ff\">None</span>, <span style=\"color: #00af00; text-decoration-color: #00af00\">50</span>)             │        <span style=\"color: #00af00; text-decoration-color: #00af00\">10,400</span> │\n",
       "├─────────────────────────────────┼────────────────────────┼───────────────┤\n",
       "│ dense (<span style=\"color: #0087ff; text-decoration-color: #0087ff\">Dense</span>)                   │ (<span style=\"color: #00d7ff; text-decoration-color: #00d7ff\">None</span>, <span style=\"color: #00af00; text-decoration-color: #00af00\">1</span>)              │            <span style=\"color: #00af00; text-decoration-color: #00af00\">51</span> │\n",
       "└─────────────────────────────────┴────────────────────────┴───────────────┘\n",
       "</pre>\n"
      ],
      "text/plain": [
       "┏━━━━━━━━━━━━━━━━━━━━━━━━━━━━━━━━━┳━━━━━━━━━━━━━━━━━━━━━━━━┳━━━━━━━━━━━━━━━┓\n",
       "┃\u001b[1m \u001b[0m\u001b[1mLayer (type)                   \u001b[0m\u001b[1m \u001b[0m┃\u001b[1m \u001b[0m\u001b[1mOutput Shape          \u001b[0m\u001b[1m \u001b[0m┃\u001b[1m \u001b[0m\u001b[1m      Param #\u001b[0m\u001b[1m \u001b[0m┃\n",
       "┡━━━━━━━━━━━━━━━━━━━━━━━━━━━━━━━━━╇━━━━━━━━━━━━━━━━━━━━━━━━╇━━━━━━━━━━━━━━━┩\n",
       "│ lstm (\u001b[38;5;33mLSTM\u001b[0m)                     │ (\u001b[38;5;45mNone\u001b[0m, \u001b[38;5;34m50\u001b[0m)             │        \u001b[38;5;34m10,400\u001b[0m │\n",
       "├─────────────────────────────────┼────────────────────────┼───────────────┤\n",
       "│ dense (\u001b[38;5;33mDense\u001b[0m)                   │ (\u001b[38;5;45mNone\u001b[0m, \u001b[38;5;34m1\u001b[0m)              │            \u001b[38;5;34m51\u001b[0m │\n",
       "└─────────────────────────────────┴────────────────────────┴───────────────┘\n"
      ]
     },
     "metadata": {},
     "output_type": "display_data"
    },
    {
     "data": {
      "text/html": [
       "<pre style=\"white-space:pre;overflow-x:auto;line-height:normal;font-family:Menlo,'DejaVu Sans Mono',consolas,'Courier New',monospace\"><span style=\"font-weight: bold\"> Total params: </span><span style=\"color: #00af00; text-decoration-color: #00af00\">10,451</span> (40.82 KB)\n",
       "</pre>\n"
      ],
      "text/plain": [
       "\u001b[1m Total params: \u001b[0m\u001b[38;5;34m10,451\u001b[0m (40.82 KB)\n"
      ]
     },
     "metadata": {},
     "output_type": "display_data"
    },
    {
     "data": {
      "text/html": [
       "<pre style=\"white-space:pre;overflow-x:auto;line-height:normal;font-family:Menlo,'DejaVu Sans Mono',consolas,'Courier New',monospace\"><span style=\"font-weight: bold\"> Trainable params: </span><span style=\"color: #00af00; text-decoration-color: #00af00\">10,451</span> (40.82 KB)\n",
       "</pre>\n"
      ],
      "text/plain": [
       "\u001b[1m Trainable params: \u001b[0m\u001b[38;5;34m10,451\u001b[0m (40.82 KB)\n"
      ]
     },
     "metadata": {},
     "output_type": "display_data"
    },
    {
     "data": {
      "text/html": [
       "<pre style=\"white-space:pre;overflow-x:auto;line-height:normal;font-family:Menlo,'DejaVu Sans Mono',consolas,'Courier New',monospace\"><span style=\"font-weight: bold\"> Non-trainable params: </span><span style=\"color: #00af00; text-decoration-color: #00af00\">0</span> (0.00 B)\n",
       "</pre>\n"
      ],
      "text/plain": [
       "\u001b[1m Non-trainable params: \u001b[0m\u001b[38;5;34m0\u001b[0m (0.00 B)\n"
      ]
     },
     "metadata": {},
     "output_type": "display_data"
    }
   ],
   "source": [
    "model = Sequential([\n",
    "    LSTM(50, activation='tanh', input_shape=(window_size, 1)),\n",
    "    Dense(1)\n",
    "])\n",
    "\n",
    "model.compile(optimizer='adam', loss='mse')\n",
    "model.summary()"
   ]
  },
  {
   "cell_type": "code",
   "execution_count": 14,
   "id": "94c3e4c4",
   "metadata": {},
   "outputs": [
    {
     "name": "stdout",
     "output_type": "stream",
     "text": [
      "Epoch 1/10\n",
      "\u001b[1m17/17\u001b[0m \u001b[32m━━━━━━━━━━━━━━━━━━━━\u001b[0m\u001b[37m\u001b[0m \u001b[1m4s\u001b[0m 46ms/step - loss: 0.3990 - val_loss: 0.2619\n",
      "Epoch 2/10\n",
      "\u001b[1m17/17\u001b[0m \u001b[32m━━━━━━━━━━━━━━━━━━━━\u001b[0m\u001b[37m\u001b[0m \u001b[1m4s\u001b[0m 46ms/step - loss: 0.3990 - val_loss: 0.2619\n",
      "Epoch 2/10\n",
      "\u001b[1m17/17\u001b[0m \u001b[32m━━━━━━━━━━━━━━━━━━━━\u001b[0m\u001b[37m\u001b[0m \u001b[1m0s\u001b[0m 18ms/step - loss: 0.0651 - val_loss: 0.0888\n",
      "Epoch 3/10\n",
      "\u001b[1m17/17\u001b[0m \u001b[32m━━━━━━━━━━━━━━━━━━━━\u001b[0m\u001b[37m\u001b[0m \u001b[1m0s\u001b[0m 18ms/step - loss: 0.0651 - val_loss: 0.0888\n",
      "Epoch 3/10\n",
      "\u001b[1m17/17\u001b[0m \u001b[32m━━━━━━━━━━━━━━━━━━━━\u001b[0m\u001b[37m\u001b[0m \u001b[1m0s\u001b[0m 19ms/step - loss: 0.0275 - val_loss: 0.0281\n",
      "Epoch 4/10\n",
      "\u001b[1m17/17\u001b[0m \u001b[32m━━━━━━━━━━━━━━━━━━━━\u001b[0m\u001b[37m\u001b[0m \u001b[1m0s\u001b[0m 19ms/step - loss: 0.0275 - val_loss: 0.0281\n",
      "Epoch 4/10\n",
      "\u001b[1m17/17\u001b[0m \u001b[32m━━━━━━━━━━━━━━━━━━━━\u001b[0m\u001b[37m\u001b[0m \u001b[1m0s\u001b[0m 16ms/step - loss: 0.0237 - val_loss: 0.0294\n",
      "Epoch 5/10\n",
      "\u001b[1m17/17\u001b[0m \u001b[32m━━━━━━━━━━━━━━━━━━━━\u001b[0m\u001b[37m\u001b[0m \u001b[1m0s\u001b[0m 16ms/step - loss: 0.0237 - val_loss: 0.0294\n",
      "Epoch 5/10\n",
      "\u001b[1m17/17\u001b[0m \u001b[32m━━━━━━━━━━━━━━━━━━━━\u001b[0m\u001b[37m\u001b[0m \u001b[1m0s\u001b[0m 17ms/step - loss: 0.0203 - val_loss: 0.0342\n",
      "Epoch 6/10\n",
      "\u001b[1m17/17\u001b[0m \u001b[32m━━━━━━━━━━━━━━━━━━━━\u001b[0m\u001b[37m\u001b[0m \u001b[1m0s\u001b[0m 17ms/step - loss: 0.0203 - val_loss: 0.0342\n",
      "Epoch 6/10\n",
      "\u001b[1m17/17\u001b[0m \u001b[32m━━━━━━━━━━━━━━━━━━━━\u001b[0m\u001b[37m\u001b[0m \u001b[1m0s\u001b[0m 18ms/step - loss: 0.0202 - val_loss: 0.0304\n",
      "Epoch 7/10\n",
      "\u001b[1m17/17\u001b[0m \u001b[32m━━━━━━━━━━━━━━━━━━━━\u001b[0m\u001b[37m\u001b[0m \u001b[1m0s\u001b[0m 18ms/step - loss: 0.0202 - val_loss: 0.0304\n",
      "Epoch 7/10\n",
      "\u001b[1m17/17\u001b[0m \u001b[32m━━━━━━━━━━━━━━━━━━━━\u001b[0m\u001b[37m\u001b[0m \u001b[1m0s\u001b[0m 18ms/step - loss: 0.0242 - val_loss: 0.0271\n",
      "Epoch 8/10\n",
      "\u001b[1m17/17\u001b[0m \u001b[32m━━━━━━━━━━━━━━━━━━━━\u001b[0m\u001b[37m\u001b[0m \u001b[1m0s\u001b[0m 18ms/step - loss: 0.0242 - val_loss: 0.0271\n",
      "Epoch 8/10\n",
      "\u001b[1m17/17\u001b[0m \u001b[32m━━━━━━━━━━━━━━━━━━━━\u001b[0m\u001b[37m\u001b[0m \u001b[1m0s\u001b[0m 17ms/step - loss: 0.0195 - val_loss: 0.0263\n",
      "Epoch 9/10\n",
      "\u001b[1m17/17\u001b[0m \u001b[32m━━━━━━━━━━━━━━━━━━━━\u001b[0m\u001b[37m\u001b[0m \u001b[1m0s\u001b[0m 17ms/step - loss: 0.0195 - val_loss: 0.0263\n",
      "Epoch 9/10\n",
      "\u001b[1m17/17\u001b[0m \u001b[32m━━━━━━━━━━━━━━━━━━━━\u001b[0m\u001b[37m\u001b[0m \u001b[1m0s\u001b[0m 16ms/step - loss: 0.0201 - val_loss: 0.0232\n",
      "Epoch 10/10\n",
      "\u001b[1m17/17\u001b[0m \u001b[32m━━━━━━━━━━━━━━━━━━━━\u001b[0m\u001b[37m\u001b[0m \u001b[1m0s\u001b[0m 16ms/step - loss: 0.0201 - val_loss: 0.0232\n",
      "Epoch 10/10\n",
      "\u001b[1m17/17\u001b[0m \u001b[32m━━━━━━━━━━━━━━━━━━━━\u001b[0m\u001b[37m\u001b[0m \u001b[1m0s\u001b[0m 15ms/step - loss: 0.0170 - val_loss: 0.0213\n",
      "\u001b[1m17/17\u001b[0m \u001b[32m━━━━━━━━━━━━━━━━━━━━\u001b[0m\u001b[37m\u001b[0m \u001b[1m0s\u001b[0m 15ms/step - loss: 0.0170 - val_loss: 0.0213\n"
     ]
    },
    {
     "data": {
      "text/plain": [
       "<keras.src.callbacks.history.History at 0x17f230a19d0>"
      ]
     },
     "execution_count": 14,
     "metadata": {},
     "output_type": "execute_result"
    }
   ],
   "source": [
    "model.fit(X, y, epochs=10, batch_size=32, validation_split=0.1)"
   ]
  },
  {
   "cell_type": "code",
   "execution_count": 15,
   "id": "5e8d61ac",
   "metadata": {},
   "outputs": [
    {
     "name": "stdout",
     "output_type": "stream",
     "text": [
      "\u001b[1m5/5\u001b[0m \u001b[32m━━━━━━━━━━━━━━━━━━━━\u001b[0m\u001b[37m\u001b[0m \u001b[1m1s\u001b[0m 86ms/step\n",
      "\u001b[1m5/5\u001b[0m \u001b[32m━━━━━━━━━━━━━━━━━━━━\u001b[0m\u001b[37m\u001b[0m \u001b[1m1s\u001b[0m 86ms/step\n"
     ]
    }
   ],
   "source": [
    "predictions = model.predict(X_test)\n",
    "\n",
    "# Inverse transform to original scale\n",
    "predicted_values = scaler.inverse_transform(predictions)\n"
   ]
  },
  {
   "cell_type": "code",
   "execution_count": 16,
   "id": "6e39a1b6",
   "metadata": {},
   "outputs": [
    {
     "data": {
      "image/png": "[encoded data removed]",
      "text/plain": [
       "<Figure size 1200x600 with 1 Axes>"
      ]
     },
     "metadata": {},
     "output_type": "display_data"
    }
   ],
   "source": [
    "plt.figure(figsize=(12, 6))\n",
    "plt.plot(df['date'], df['A'], label='Actual')\n",
    "plt.plot(df['date'][train_size + window_size:], predicted_values.flatten(), label='Predicted', linestyle='--')\n",
    "plt.title('LSTM Predictions vs Actual')\n",
    "plt.xlabel('Date')\n",
    "plt.ylabel('Price')\n",
    "plt.xticks(rotation=45)\n",
    "plt.legend()\n",
    "plt.tight_layout()\n",
    "plt.show()\n"
   ]
  },
  {
   "cell_type": "code",
   "execution_count": null,
   "id": "9a1842d5",
   "metadata": {},
   "outputs": [],
   "source": []
  }
 ],
 "metadata": {
  "kernelspec": {
   "display_name": "Python 3",
   "language": "python",
   "name": "python3"
  },
  "language_info": {
   "codemirror_mode": {
    "name": "ipython",
    "version": 3
   },
   "file_extension": ".py",
   "mimetype": "text/x-python",
   "name": "python",
   "nbconvert_exporter": "python",
   "pygments_lexer": "ipython3",
   "version": "3.12.4"
  }
 },
 "nbformat": 4,
 "nbformat_minor": 5
}

{
 "cells": [
  {
   "cell_type": "code",
   "execution_count": 1,
   "id": "93468d43",
   "metadata": {},
   "outputs": [],
   "source": [
    "import pandas as pd\n",
    "import numpy as np\n",
    "import matplotlib.pyplot as plt\n",
    "import seaborn as sns\n",
    "from sklearn.preprocessing import StandardScaler\n",
    "from tensorflow.keras.models import Sequential\n",
    "from tensorflow.keras.layers import LSTM, Dense\n",
    "from sklearn.model_selection import train_test_split\n",
    "from sklearn.metrics import mean_squared_error"
   ]
  },
  {
   "cell_type": "code",
   "execution_count": 2,
   "metadata": {},
   "outputs": [],
   "source": [
    "#import data set\n",
    "df = pd.read_csv('price_pivot.csv')"
   ]
  },
  {
   "cell_type": "code",
   "execution_count": 3,
   "id": "49a1b46a",
   "metadata": {},
   "outputs": [],
   "source": [
    "scaler = StandardScaler()\n",
    "df['scaled_A'] = scaler.fit_transform(df['A'].values.reshape(-1, 1))"
   ]
  },
  {
   "cell_type": "code",
   "execution_count": 4,
   "id": "696caaba",
   "metadata": {},
   "outputs": [
    {
     "data": {
      "text/html": [
       "<div>\n",
       "<style scoped>\n",
       "    .dataframe tbody tr th:only-of-type {\n",
       "        vertical-align: middle;\n",
       "    }\n",
       "\n",
       "    .dataframe tbody tr th {\n",
       "        vertical-align: top;\n",
       "    }\n",
       "\n",
       "    .dataframe thead th {\n",
       "        text-align: right;\n",
       "    }\n",
       "</style>\n",
       "<table border=\"1\" class=\"dataframe\">\n",
       "  <thead>\n",
       "    <tr style=\"text-align: right;\">\n",
       "      <th></th>\n",
       "      <th>date</th>\n",
       "      <th>A</th>\n",
       "      <th>B</th>\n",
       "      <th>C</th>\n",
       "      <th>D</th>\n",
       "      <th>E</th>\n",
       "      <th>scaled_A</th>\n",
       "    </tr>\n",
       "  </thead>\n",
       "  <tbody>\n",
       "    <tr>\n",
       "      <th>0</th>\n",
       "      <td>2022-08-28</td>\n",
       "      <td>54.500000</td>\n",
       "      <td>50.840000</td>\n",
       "      <td>29.920000</td>\n",
       "      <td>21.286667</td>\n",
       "      <td>31.943333</td>\n",
       "      <td>-2.043023</td>\n",
       "    </tr>\n",
       "    <tr>\n",
       "      <th>1</th>\n",
       "      <td>2022-08-29</td>\n",
       "      <td>54.870000</td>\n",
       "      <td>39.526667</td>\n",
       "      <td>34.060000</td>\n",
       "      <td>42.946667</td>\n",
       "      <td>22.993333</td>\n",
       "      <td>-2.028754</td>\n",
       "    </tr>\n",
       "    <tr>\n",
       "      <th>2</th>\n",
       "      <td>2022-08-30</td>\n",
       "      <td>54.483333</td>\n",
       "      <td>40.183333</td>\n",
       "      <td>32.520000</td>\n",
       "      <td>40.583333</td>\n",
       "      <td>26.693333</td>\n",
       "      <td>-2.043666</td>\n",
       "    </tr>\n",
       "    <tr>\n",
       "      <th>3</th>\n",
       "      <td>2022-08-31</td>\n",
       "      <td>52.096667</td>\n",
       "      <td>41.420000</td>\n",
       "      <td>32.293333</td>\n",
       "      <td>31.693333</td>\n",
       "      <td>26.850000</td>\n",
       "      <td>-2.135711</td>\n",
       "    </tr>\n",
       "    <tr>\n",
       "      <th>4</th>\n",
       "      <td>2022-09-01</td>\n",
       "      <td>51.770000</td>\n",
       "      <td>43.150000</td>\n",
       "      <td>36.340000</td>\n",
       "      <td>46.303333</td>\n",
       "      <td>31.306667</td>\n",
       "      <td>-2.148310</td>\n",
       "    </tr>\n",
       "  </tbody>\n",
       "</table>\n",
       "</div>"
      ],
      "text/plain": [
       "         date          A          B          C          D          E  scaled_A\n",
       "0  2022-08-28  54.500000  50.840000  29.920000  21.286667  31.943333 -2.043023\n",
       "1  2022-08-29  54.870000  39.526667  34.060000  42.946667  22.993333 -2.028754\n",
       "2  2022-08-30  54.483333  40.183333  32.520000  40.583333  26.693333 -2.043666\n",
       "3  2022-08-31  52.096667  41.420000  32.293333  31.693333  26.850000 -2.135711\n",
       "4  2022-09-01  51.770000  43.150000  36.340000  46.303333  31.306667 -2.148310"
      ]
     },
     "execution_count": 4,
     "metadata": {},
     "output_type": "execute_result"
    }
   ],
   "source": [
    "df.head()"
   ]
  },
  {
   "cell_type": "code",
   "execution_count": 5,
   "id": "a506d080",
   "metadata": {},
   "outputs": [],
   "source": [
    "df['date'] = pd.to_datetime(df['date'])"
   ]
  },
  {
   "cell_type": "code",
   "execution_count": 6,
   "id": "38f121be",
   "metadata": {},
   "outputs": [
    {
     "data": {
      "text/html": [
       "<div>\n",
       "<style scoped>\n",
       "    .dataframe tbody tr th:only-of-type {\n",
       "        vertical-align: middle;\n",
       "    }\n",
       "\n",
       "    .dataframe tbody tr th {\n",
       "        vertical-align: top;\n",
       "    }\n",
       "\n",
       "    .dataframe thead th {\n",
       "        text-align: right;\n",
       "    }\n",
       "</style>\n",
       "<table border=\"1\" class=\"dataframe\">\n",
       "  <thead>\n",
       "    <tr style=\"text-align: right;\">\n",
       "      <th></th>\n",
       "      <th>date</th>\n",
       "      <th>A</th>\n",
       "      <th>B</th>\n",
       "      <th>C</th>\n",
       "      <th>D</th>\n",
       "      <th>E</th>\n",
       "      <th>scaled_A</th>\n",
       "    </tr>\n",
       "  </thead>\n",
       "  <tbody>\n",
       "    <tr>\n",
       "      <th>0</th>\n",
       "      <td>2022-08-28</td>\n",
       "      <td>54.500000</td>\n",
       "      <td>50.840000</td>\n",
       "      <td>29.920000</td>\n",
       "      <td>21.286667</td>\n",
       "      <td>31.943333</td>\n",
       "      <td>-2.043023</td>\n",
       "    </tr>\n",
       "    <tr>\n",
       "      <th>1</th>\n",
       "      <td>2022-08-29</td>\n",
       "      <td>54.870000</td>\n",
       "      <td>39.526667</td>\n",
       "      <td>34.060000</td>\n",
       "      <td>42.946667</td>\n",
       "      <td>22.993333</td>\n",
       "      <td>-2.028754</td>\n",
       "    </tr>\n",
       "    <tr>\n",
       "      <th>2</th>\n",
       "      <td>2022-08-30</td>\n",
       "      <td>54.483333</td>\n",
       "      <td>40.183333</td>\n",
       "      <td>32.520000</td>\n",
       "      <td>40.583333</td>\n",
       "      <td>26.693333</td>\n",
       "      <td>-2.043666</td>\n",
       "    </tr>\n",
       "    <tr>\n",
       "      <th>3</th>\n",
       "      <td>2022-08-31</td>\n",
       "      <td>52.096667</td>\n",
       "      <td>41.420000</td>\n",
       "      <td>32.293333</td>\n",
       "      <td>31.693333</td>\n",
       "      <td>26.850000</td>\n",
       "      <td>-2.135711</td>\n",
       "    </tr>\n",
       "    <tr>\n",
       "      <th>4</th>\n",
       "      <td>2022-09-01</td>\n",
       "      <td>51.770000</td>\n",
       "      <td>43.150000</td>\n",
       "      <td>36.340000</td>\n",
       "      <td>46.303333</td>\n",
       "      <td>31.306667</td>\n",
       "      <td>-2.148310</td>\n",
       "    </tr>\n",
       "  </tbody>\n",
       "</table>\n",
       "</div>"
      ],
      "text/plain": [
       "        date          A          B          C          D          E  scaled_A\n",
       "0 2022-08-28  54.500000  50.840000  29.920000  21.286667  31.943333 -2.043023\n",
       "1 2022-08-29  54.870000  39.526667  34.060000  42.946667  22.993333 -2.028754\n",
       "2 2022-08-30  54.483333  40.183333  32.520000  40.583333  26.693333 -2.043666\n",
       "3 2022-08-31  52.096667  41.420000  32.293333  31.693333  26.850000 -2.135711\n",
       "4 2022-09-01  51.770000  43.150000  36.340000  46.303333  31.306667 -2.148310"
      ]
     },
     "execution_count": 6,
     "metadata": {},
     "output_type": "execute_result"
    }
   ],
   "source": [
    "df.head()"
   ]
  },
  {
   "cell_type": "code",
   "execution_count": 7,
   "id": "f9712d98",
   "metadata": {},
   "outputs": [
    {
     "data": {
      "text/plain": [
       "761"
      ]
     },
     "execution_count": 7,
     "metadata": {},
     "output_type": "execute_result"
    }
   ],
   "source": [
    "len(df)"
   ]
  },
  {
   "cell_type": "code",
   "execution_count": 8,
   "metadata": {},
   "outputs": [],
   "source": [
    "def create_sequences(data, window_size):\n",
    "    X, y = [], []\n",
    "    for i in range(len(data) - window_size):\n",
    "        X.append(data[i:i+window_size])\n",
    "        y.append(data[i+window_size])\n",
    "    return np.array(X), np.array(y)\n",
    "\n",
    "train_size = int(len(df) * 0.8)\n",
    "test_size = len(df) - train_size\n",
    "window_size = 5\n",
    "X, y = create_sequences(df['scaled_A'][:train_size].values, window_size)\n",
    "X_test, y_test = create_sequences(df['scaled_A'][train_size:].values, window_size)"
   ]
  },
  {
   "cell_type": "code",
   "execution_count": 11,
   "id": "955abd94",
   "metadata": {},
   "outputs": [],
   "source": [
    "# Reshape for LSTM: [samples, time_steps, features]\n",
    "X = X.reshape((X.shape[0], X.shape[1], 1))\n",
    "X_test = X_test.reshape((X_test.shape[0], X_test.shape[1], 1))"
   ]
  },
  {
   "cell_type": "code",
   "execution_count": 13,
   "id": "44a5595d",
   "metadata": {},
   "outputs": [
    {
     "name": "stderr",
     "output_type": "stream",
     "text": [
      "c:\\Users\\asus\\AppData\\Local\\Programs\\Python\\Python312\\Lib\\site-packages\\keras\\src\\layers\\rnn\\rnn.py:200: UserWarning: Do not pass an `input_shape`/`input_dim` argument to a layer. When using Sequential models, prefer using an `Input(shape)` object as the first layer in the model instead.\n",
      "  super().__init__(**kwargs)\n"
     ]
    },
    {
     "data": {
      "text/html": [
       "<pre style=\"white-space:pre;overflow-x:auto;line-height:normal;font-family:Menlo,'DejaVu Sans Mono',consolas,'Courier New',monospace\"><span style=\"font-weight: bold\">Model: \"sequential\"</span>\n",
       "</pre>\n"
      ],
      "text/plain": [
       "\u001b[1mModel: \"sequential\"\u001b[0m\n"
      ]
     },
     "metadata": {},
     "output_type": "display_data"
    },
    {
     "data": {
      "text/html": [
       "<pre style=\"white-space:pre;overflow-x:auto;line-height:normal;font-family:Menlo,'DejaVu Sans Mono',consolas,'Courier New',monospace\">┏━━━━━━━━━━━━━━━━━━━━━━━━━━━━━━━━━┳━━━━━━━━━━━━━━━━━━━━━━━━┳━━━━━━━━━━━━━━━┓\n",
       "┃<span style=\"font-weight: bold\"> Layer (type)                    </span>┃<span style=\"font-weight: bold\"> Output Shape           </span>┃<span style=\"font-weight: bold\">       Param # </span>┃\n",
       "┡━━━━━━━━━━━━━━━━━━━━━━━━━━━━━━━━━╇━━━━━━━━━━━━━━━━━━━━━━━━╇━━━━━━━━━━━━━━━┩\n",
       "│ lstm (<span style=\"color: #0087ff; text-decoration-color: #0087ff\">LSTM</span>)                     │ (<span style=\"color: #00d7ff; text-decoration-color: #00d7ff\">None</span>, <span style=\"color: #00af00; text-decoration-color: #00af00\">50</span>)             │        <span style=\"color: #00af00; text-decoration-color: #00af00\">10,400</span> │\n",
       "├─────────────────────────────────┼────────────────────────┼───────────────┤\n",
       "│ dense (<span style=\"color: #0087ff; text-decoration-color: #0087ff\">Dense</span>)                   │ (<span style=\"color: #00d7ff; text-decoration-color: #00d7ff\">None</span>, <span style=\"color: #00af00; text-decoration-color: #00af00\">1</span>)              │            <span style=\"color: #00af00; text-decoration-color: #00af00\">51</span> │\n",
       "└─────────────────────────────────┴────────────────────────┴───────────────┘\n",
       "</pre>\n"
      ],
      "text/plain": [
       "┏━━━━━━━━━━━━━━━━━━━━━━━━━━━━━━━━━┳━━━━━━━━━━━━━━━━━━━━━━━━┳━━━━━━━━━━━━━━━┓\n",
       "┃\u001b[1m \u001b[0m\u001b[1mLayer (type)                   \u001b[0m\u001b[1m \u001b[0m┃\u001b[1m \u001b[0m\u001b[1mOutput Shape          \u001b[0m\u001b[1m \u001b[0m┃\u001b[1m \u001b[0m\u001b[1m      Param #\u001b[0m\u001b[1m \u001b[0m┃\n",
       "┡━━━━━━━━━━━━━━━━━━━━━━━━━━━━━━━━━╇━━━━━━━━━━━━━━━━━━━━━━━━╇━━━━━━━━━━━━━━━┩\n",
       "│ lstm (\u001b[38;5;33mLSTM\u001b[0m)                     │ (\u001b[38;5;45mNone\u001b[0m, \u001b[38;5;34m50\u001b[0m)             │        \u001b[38;5;34m10,400\u001b[0m │\n",
       "├─────────────────────────────────┼────────────────────────┼───────────────┤\n",
       "│ dense (\u001b[38;5;33mDense\u001b[0m)                   │ (\u001b[38;5;45mNone\u001b[0m, \u001b[38;5;34m1\u001b[0m)              │            \u001b[38;5;34m51\u001b[0m │\n",
       "└─────────────────────────────────┴────────────────────────┴───────────────┘\n"
      ]
     },
     "metadata": {},
     "output_type": "display_data"
    },
    {
     "data": {
      "text/html": [
       "<pre style=\"white-space:pre;overflow-x:auto;line-height:normal;font-family:Menlo,'DejaVu Sans Mono',consolas,'Courier New',monospace\"><span style=\"font-weight: bold\"> Total params: </span><span style=\"color: #00af00; text-decoration-color: #00af00\">10,451</span> (40.82 KB)\n",
       "</pre>\n"
      ],
      "text/plain": [
       "\u001b[1m Total params: \u001b[0m\u001b[38;5;34m10,451\u001b[0m (40.82 KB)\n"
      ]
     },
     "metadata": {},
     "output_type": "display_data"
    },
    {
     "data": {
      "text/html": [
       "<pre style=\"white-space:pre;overflow-x:auto;line-height:normal;font-family:Menlo,'DejaVu Sans Mono',consolas,'Courier New',monospace\"><span style=\"font-weight: bold\"> Trainable params: </span><span style=\"color: #00af00; text-decoration-color: #00af00\">10,451</span> (40.82 KB)\n",
       "</pre>\n"
      ],
      "text/plain": [
       "\u001b[1m Trainable params: \u001b[0m\u001b[38;5;34m10,451\u001b[0m (40.82 KB)\n"
      ]
     },
     "metadata": {},
     "output_type": "display_data"
    },
    {
     "data": {
      "text/html": [
       "<pre style=\"white-space:pre;overflow-x:auto;line-height:normal;font-family:Menlo,'DejaVu Sans Mono',consolas,'Courier New',monospace\"><span style=\"font-weight: bold\"> Non-trainable params: </span><span style=\"color: #00af00; text-decoration-color: #00af00\">0</span> (0.00 B)\n",
       "</pre>\n"
      ],
      "text/plain": [
       "\u001b[1m Non-trainable params: \u001b[0m\u001b[38;5;34m0\u001b[0m (0.00 B)\n"
      ]
     },
     "metadata": {},
     "output_type": "display_data"
    }
   ],
   "source": [
    "model = Sequential([\n",
    "    LSTM(50, activation='tanh', input_shape=(window_size, 1)),\n",
    "    Dense(1)\n",
    "])\n",
    "\n",
    "model.compile(optimizer='adam', loss='mse')\n",
    "model.summary()"
   ]
  },
  {
   "cell_type": "code",
   "execution_count": 14,
   "id": "94c3e4c4",
   "metadata": {},
   "outputs": [
    {
     "name": "stdout",
     "output_type": "stream",
     "text": [
      "Epoch 1/10\n"
     ]
    },
    {
     "name": "stdout",
     "output_type": "stream",
     "text": [
      "\u001b[1m17/17\u001b[0m \u001b[32m━━━━━━━━━━━━━━━━━━━━\u001b[0m\u001b[37m\u001b[0m \u001b[1m5s\u001b[0m 50ms/step - loss: 0.5485 - val_loss: 0.5632\n",
      "Epoch 2/10\n",
      "\u001b[1m17/17\u001b[0m \u001b[32m━━━━━━━━━━━━━━━━━━━━\u001b[0m\u001b[37m\u001b[0m \u001b[1m5s\u001b[0m 50ms/step - loss: 0.5485 - val_loss: 0.5632\n",
      "Epoch 2/10\n",
      "\u001b[1m17/17\u001b[0m \u001b[32m━━━━━━━━━━━━━━━━━━━━\u001b[0m\u001b[37m\u001b[0m \u001b[1m0s\u001b[0m 23ms/step - loss: 0.1195 - val_loss: 0.2423\n",
      "Epoch 3/10\n",
      "\u001b[1m17/17\u001b[0m \u001b[32m━━━━━━━━━━━━━━━━━━━━\u001b[0m\u001b[37m\u001b[0m \u001b[1m0s\u001b[0m 23ms/step - loss: 0.1195 - val_loss: 0.2423\n",
      "Epoch 3/10\n",
      "\u001b[1m17/17\u001b[0m \u001b[32m━━━━━━━━━━━━━━━━━━━━\u001b[0m\u001b[37m\u001b[0m \u001b[1m0s\u001b[0m 14ms/step - loss: 0.0469 - val_loss: 0.1277\n",
      "Epoch 4/10\n",
      "\u001b[1m17/17\u001b[0m \u001b[32m━━━━━━━━━━━━━━━━━━━━\u001b[0m\u001b[37m\u001b[0m \u001b[1m0s\u001b[0m 14ms/step - loss: 0.0469 - val_loss: 0.1277\n",
      "Epoch 4/10\n",
      "\u001b[1m17/17\u001b[0m \u001b[32m━━━━━━━━━━━━━━━━━━━━\u001b[0m\u001b[37m\u001b[0m \u001b[1m0s\u001b[0m 17ms/step - loss: 0.0244 - val_loss: 0.0594\n",
      "Epoch 5/10\n",
      "\u001b[1m17/17\u001b[0m \u001b[32m━━━━━━━━━━━━━━━━━━━━\u001b[0m\u001b[37m\u001b[0m \u001b[1m0s\u001b[0m 17ms/step - loss: 0.0244 - val_loss: 0.0594\n",
      "Epoch 5/10\n",
      "\u001b[1m17/17\u001b[0m \u001b[32m━━━━━━━━━━━━━━━━━━━━\u001b[0m\u001b[37m\u001b[0m \u001b[1m1s\u001b[0m 17ms/step - loss: 0.0200 - val_loss: 0.0450\n",
      "Epoch 6/10\n",
      "\u001b[1m17/17\u001b[0m \u001b[32m━━━━━━━━━━━━━━━━━━━━\u001b[0m\u001b[37m\u001b[0m \u001b[1m1s\u001b[0m 17ms/step - loss: 0.0200 - val_loss: 0.0450\n",
      "Epoch 6/10\n",
      "\u001b[1m17/17\u001b[0m \u001b[32m━━━━━━━━━━━━━━━━━━━━\u001b[0m\u001b[37m\u001b[0m \u001b[1m1s\u001b[0m 38ms/step - loss: 0.0157 - val_loss: 0.0423\n",
      "Epoch 7/10\n",
      "\u001b[1m17/17\u001b[0m \u001b[32m━━━━━━━━━━━━━━━━━━━━\u001b[0m\u001b[37m\u001b[0m \u001b[1m1s\u001b[0m 38ms/step - loss: 0.0157 - val_loss: 0.0423\n",
      "Epoch 7/10\n",
      "\u001b[1m17/17\u001b[0m \u001b[32m━━━━━━━━━━━━━━━━━━━━\u001b[0m\u001b[37m\u001b[0m \u001b[1m0s\u001b[0m 13ms/step - loss: 0.0206 - val_loss: 0.0407\n",
      "Epoch 8/10\n",
      "\u001b[1m17/17\u001b[0m \u001b[32m━━━━━━━━━━━━━━━━━━━━\u001b[0m\u001b[37m\u001b[0m \u001b[1m0s\u001b[0m 13ms/step - loss: 0.0206 - val_loss: 0.0407\n",
      "Epoch 8/10\n",
      "\u001b[1m17/17\u001b[0m \u001b[32m━━━━━━━━━━━━━━━━━━━━\u001b[0m\u001b[37m\u001b[0m \u001b[1m0s\u001b[0m 20ms/step - loss: 0.0189 - val_loss: 0.0358\n",
      "Epoch 9/10\n",
      "\u001b[1m17/17\u001b[0m \u001b[32m━━━━━━━━━━━━━━━━━━━━\u001b[0m\u001b[37m\u001b[0m \u001b[1m0s\u001b[0m 20ms/step - loss: 0.0189 - val_loss: 0.0358\n",
      "Epoch 9/10\n",
      "\u001b[1m17/17\u001b[0m \u001b[32m━━━━━━━━━━━━━━━━━━━━\u001b[0m\u001b[37m\u001b[0m \u001b[1m0s\u001b[0m 11ms/step - loss: 0.0179 - val_loss: 0.0350\n",
      "Epoch 10/10\n",
      "\u001b[1m17/17\u001b[0m \u001b[32m━━━━━━━━━━━━━━━━━━━━\u001b[0m\u001b[37m\u001b[0m \u001b[1m0s\u001b[0m 11ms/step - loss: 0.0179 - val_loss: 0.0350\n",
      "Epoch 10/10\n",
      "\u001b[1m17/17\u001b[0m \u001b[32m━━━━━━━━━━━━━━━━━━━━\u001b[0m\u001b[37m\u001b[0m \u001b[1m1s\u001b[0m 29ms/step - loss: 0.0171 - val_loss: 0.0344\n",
      "\u001b[1m17/17\u001b[0m \u001b[32m━━━━━━━━━━━━━━━━━━━━\u001b[0m\u001b[37m\u001b[0m \u001b[1m1s\u001b[0m 29ms/step - loss: 0.0171 - val_loss: 0.0344\n"
     ]
    },
    {
     "data": {
      "text/plain": [
       "<keras.src.callbacks.history.History at 0x20d62609d00>"
      ]
     },
     "execution_count": 14,
     "metadata": {},
     "output_type": "execute_result"
    }
   ],
   "source": [
    "model.fit(X, y, epochs=10, batch_size=32, validation_split=0.1)"
   ]
  },
  {
   "cell_type": "code",
   "execution_count": 18,
   "id": "67500414",
   "metadata": {},
   "outputs": [
    {
     "data": {
      "text/plain": [
       "(603, 5, 1)"
      ]
     },
     "execution_count": 18,
     "metadata": {},
     "output_type": "execute_result"
    }
   ],
   "source": [
    "X.shape"
   ]
  },
  {
   "cell_type": "code",
   "execution_count": 21,
   "id": "86a1cb1f",
   "metadata": {},
   "outputs": [
    {
     "data": {
      "text/plain": [
       "array([[[-2.04302336],\n",
       "        [-2.02875378],\n",
       "        [-2.04366613],\n",
       "        [-2.13571132],\n",
       "        [-2.14830969]],\n",
       "\n",
       "       [[-2.02875378],\n",
       "        [-2.04366613],\n",
       "        [-2.13571132],\n",
       "        [-2.14830969],\n",
       "        [-2.1499809 ]],\n",
       "\n",
       "       [[-2.04366613],\n",
       "        [-2.13571132],\n",
       "        [-2.14830969],\n",
       "        [-2.1499809 ],\n",
       "        [-2.11321425]],\n",
       "\n",
       "       ...,\n",
       "\n",
       "       [[ 1.14487697],\n",
       "        [ 1.22046715],\n",
       "        [ 1.24524608],\n",
       "        [ 1.24707798],\n",
       "        [ 1.22846968]],\n",
       "\n",
       "       [[ 1.22046715],\n",
       "        [ 1.24524608],\n",
       "        [ 1.24707798],\n",
       "        [ 1.22846968],\n",
       "        [ 1.2724354 ]],\n",
       "\n",
       "       [[ 1.24524608],\n",
       "        [ 1.24707798],\n",
       "        [ 1.22846968],\n",
       "        [ 1.2724354 ],\n",
       "        [ 1.24148585]]])"
      ]
     },
     "execution_count": 21,
     "metadata": {},
     "output_type": "execute_result"
    }
   ],
   "source": [
    "X"
   ]
  },
  {
   "cell_type": "code",
   "execution_count": 20,
   "id": "ce20bd67",
   "metadata": {},
   "outputs": [
    {
     "data": {
      "text/plain": [
       "(148, 5, 1)"
      ]
     },
     "execution_count": 20,
     "metadata": {},
     "output_type": "execute_result"
    }
   ],
   "source": [
    "X_test.shape"
   ]
  },
  {
   "cell_type": "code",
   "execution_count": 23,
   "id": "5e8d61ac",
   "metadata": {},
   "outputs": [
    {
     "name": "stdout",
     "output_type": "stream",
     "text": [
      "\u001b[1m24/24\u001b[0m \u001b[32m━━━━━━━━━━━━━━━━━━━━\u001b[0m\u001b[37m\u001b[0m \u001b[1m0s\u001b[0m 5ms/step\n",
      "\u001b[1m24/24\u001b[0m \u001b[32m━━━━━━━━━━━━━━━━━━━━\u001b[0m\u001b[37m\u001b[0m \u001b[1m0s\u001b[0m 5ms/step\n"
     ]
    }
   ],
   "source": [
    "X_pred, y = create_sequences(df['scaled_A'].values, window_size)\n",
    "X_pred = X_pred.reshape((X_pred.shape[0], X_pred.shape[1], 1))\n",
    "predictions = model.predict(X_pred)\n",
    "\n",
    "# Inverse transform to original scale\n",
    "predicted_values = scaler.inverse_transform(predictions)\n"
   ]
  },
  {
   "cell_type": "code",
   "execution_count": 34,
   "id": "b665f133",
   "metadata": {},
   "outputs": [
    {
     "data": {
      "text/plain": [
       "array([ 56.09432 ,  55.651485,  55.220295,  54.911427,  55.06929 ,\n",
       "        55.473225,  55.639107,  55.53185 ,  55.38584 ,  55.23226 ,\n",
       "        54.927982,  55.233883,  55.38748 ,  55.552944,  55.168446,\n",
       "        54.901474,  54.67183 ,  54.60072 ,  54.39286 ,  54.692795,\n",
       "        54.43896 ,  54.176304,  53.767147,  53.301117,  52.901176,\n",
       "        52.534954,  52.66384 ,  53.201794,  54.154568,  55.2109  ,\n",
       "        56.325657,  57.00296 ,  57.110783,  56.779358,  56.580845,\n",
       "        56.617832,  56.83821 ,  57.272026,  57.93238 ,  58.349224,\n",
       "        58.59779 ,  58.85577 ,  59.161953,  59.403454,  59.389793,\n",
       "        59.25192 ,  59.246937,  59.209354,  59.584038,  60.327454,\n",
       "        61.43086 ,  62.53435 ,  63.696445,  64.32611 ,  64.73469 ,\n",
       "        65.00404 ,  65.17261 ,  65.20005 ,  65.20846 ,  65.09319 ,\n",
       "        65.15892 ,  65.43718 ,  66.05924 ,  66.9078  ,  67.748985,\n",
       "        68.50432 ,  68.895386,  69.24571 ,  69.50423 ,  70.18878 ,\n",
       "        70.83187 ,  71.70849 ,  72.63534 ,  73.400604,  73.663086,\n",
       "        73.67114 ,  73.68737 ,  73.53957 ,  73.5951  ,  74.3758  ,\n",
       "        75.476295,  76.24736 ,  77.02317 ,  77.492485,  77.52762 ,\n",
       "        77.21016 ,  77.219154,  77.41673 ,  77.40755 ,  77.37783 ,\n",
       "        77.59122 ,  76.84399 ,  75.6651  ,  75.105225,  74.90898 ,\n",
       "        74.85075 ,  74.85739 ,  75.22514 ,  74.588524,  73.754005,\n",
       "        73.24681 ,  73.386024,  72.93223 ,  72.786995,  72.864   ,\n",
       "        73.114296,  73.22111 ,  73.2736  ,  73.07505 ,  72.98705 ,\n",
       "        73.02858 ,  73.86716 ,  75.03892 ,  76.510124,  77.771194,\n",
       "        78.71322 ,  78.61089 ,  78.23532 ,  78.00271 ,  78.17235 ,\n",
       "        78.37252 ,  79.527626,  80.87858 ,  81.468544,  80.84876 ,\n",
       "        79.63989 ,  77.24828 ,  74.774   ,  73.5598  ,  73.363716,\n",
       "        73.98568 ,  74.413345,  75.259895,  75.81021 ,  76.64707 ,\n",
       "        77.14903 ,  78.22977 ,  78.5651  ,  78.66237 ,  78.64655 ,\n",
       "        78.42127 ,  78.42358 ,  78.422966,  78.785706,  78.96198 ,\n",
       "        79.88264 ,  80.87465 ,  82.44497 ,  84.12149 ,  85.81094 ,\n",
       "        86.79466 ,  87.19823 ,  87.23222 ,  87.203156,  87.15479 ,\n",
       "        87.16859 ,  88.03288 ,  88.83267 ,  89.93579 ,  90.45515 ,\n",
       "        90.88858 ,  90.71016 ,  90.96552 ,  91.43535 ,  92.79144 ,\n",
       "        94.0564  ,  94.190414,  93.87726 ,  93.49932 ,  93.55706 ,\n",
       "        93.38315 ,  94.33727 ,  95.682915,  96.56036 ,  97.1208  ,\n",
       "        97.92185 ,  98.80209 ,  99.43808 ,  99.9358  , 100.32864 ,\n",
       "       100.31006 , 100.17277 ,  99.95993 ,  99.86757 ,  99.79099 ,\n",
       "        99.90731 , 100.006775, 100.77032 , 101.43348 , 102.260544,\n",
       "       102.966064, 103.66473 , 103.71203 , 103.68334 , 103.28332 ,\n",
       "       102.52878 , 101.59456 , 101.131134, 101.26447 , 102.02171 ,\n",
       "       103.147285, 104.37273 , 104.43617 , 103.6263  , 102.61221 ,\n",
       "       101.411865, 100.35771 ,  99.85627 ,  99.797806,  99.73554 ,\n",
       "       100.9301  , 103.10873 , 104.75703 , 106.39137 , 108.33132 ,\n",
       "       109.90996 , 110.84585 , 112.917076, 114.37437 , 115.520996,\n",
       "       115.58308 , 115.72009 , 115.797455, 116.24898 , 115.784294,\n",
       "       115.85815 , 116.09636 , 116.60417 , 117.30406 , 117.80703 ,\n",
       "       117.48757 , 116.7999  , 116.16923 , 115.24151 , 114.881226,\n",
       "       114.451065, 114.04383 , 113.52167 , 113.22368 , 112.54747 ,\n",
       "       112.0752  , 111.91783 , 111.59331 , 111.19357 , 111.02165 ,\n",
       "       111.13443 , 111.19455 , 111.66423 , 112.37027 , 113.10762 ,\n",
       "       113.3447  , 113.348145, 112.519165, 111.21514 , 109.359955,\n",
       "       107.34199 , 105.56445 , 105.39753 , 105.62644 , 105.76132 ,\n",
       "       107.352325, 109.188324, 110.45164 , 111.99806 , 113.30311 ,\n",
       "       112.02205 , 109.86835 , 107.99139 , 106.96772 , 106.81971 ,\n",
       "       107.76434 , 108.10475 , 107.06133 , 105.87092 , 105.07952 ,\n",
       "       104.26855 , 104.599174, 104.71397 , 103.94165 , 103.357895,\n",
       "       103.577805, 103.63451 , 102.80666 , 101.99899 , 100.944176,\n",
       "        96.5153  ,  90.34545 ,  85.557076,  80.8428  ,  77.67408 ,\n",
       "        78.13748 ,  81.9392  ,  85.06755 ,  87.48188 ,  88.53467 ,\n",
       "        89.79068 ,  90.58239 ,  91.248184,  91.67094 ,  91.45868 ,\n",
       "        90.39778 ,  89.25497 ,  87.60929 ,  86.61992 ,  86.46526 ,\n",
       "        86.81973 ,  88.225395,  89.81926 ,  90.425674,  92.12765 ,\n",
       "        92.61683 ,  91.86124 ,  92.065   ,  93.39863 ,  93.0511  ,\n",
       "        94.496315,  95.73733 ,  97.91244 ,  99.19041 , 101.05208 ,\n",
       "       101.84242 , 102.15939 , 100.46121 ,  99.03808 ,  97.35051 ,\n",
       "        96.40098 ,  96.63458 ,  96.39438 ,  95.632034,  94.9908  ,\n",
       "        94.187485,  92.03893 ,  91.6036  ,  91.00195 ,  91.00521 ,\n",
       "        90.97913 ,  90.25667 ,  89.225395,  88.13442 ,  87.073814,\n",
       "        86.13432 ,  85.79402 ,  85.98938 ,  86.53113 ,  86.97632 ,\n",
       "        87.72878 ,  88.9224  ,  88.998405,  88.98854 ,  89.0789  ,\n",
       "        88.92427 ,  88.84976 ,  88.8028  ,  87.301025,  86.80291 ,\n",
       "        86.65695 ,  86.65651 ,  86.64001 ,  88.94037 ,  90.10222 ,\n",
       "        91.462204,  92.28743 ,  92.608   ,  93.10445 ,  93.045334,\n",
       "        92.69303 ,  93.65419 ,  93.87673 ,  93.54998 ,  93.46791 ,\n",
       "        94.03391 ,  94.34863 ,  96.85748 ,  99.126495, 101.34219 ,\n",
       "       103.40856 , 104.84174 , 105.23966 , 104.63894 , 104.65029 ,\n",
       "       104.668076, 105.01164 , 105.54981 , 105.44837 , 105.32997 ,\n",
       "       105.31278 , 105.10471 , 104.90488 , 104.71462 , 104.54033 ,\n",
       "       104.53227 , 105.7916  , 107.21507 , 108.71761 , 110.49097 ,\n",
       "       111.595566, 111.65465 , 112.19786 , 112.67221 , 113.23474 ,\n",
       "       113.9556  , 114.50175 , 114.552605, 114.8792  , 114.76647 ,\n",
       "       114.93056 , 114.8987  , 114.871056, 114.99199 , 115.54913 ,\n",
       "       115.616684, 115.15597 , 114.6274  , 114.67409 , 114.64435 ,\n",
       "       115.013245, 115.76841 , 116.463135, 115.541985, 114.57452 ,\n",
       "       113.756836, 113.818504, 113.85739 , 114.93319 , 115.932945,\n",
       "       116.77888 , 117.02374 , 117.2188  , 117.38354 , 117.39318 ,\n",
       "       117.56002 , 117.52275 , 117.66556 , 118.20735 , 118.484665,\n",
       "       118.747826, 118.770386, 118.78807 , 118.70303 , 118.42121 ,\n",
       "       118.59772 , 119.084076, 118.732765, 117.74092 , 116.939705,\n",
       "       116.134895, 115.58391 , 116.51386 , 117.93917 , 119.356   ,\n",
       "       119.92792 , 120.1209  , 120.11349 , 120.17904 , 120.38641 ,\n",
       "       120.87064 , 121.506195, 121.85622 , 122.178955, 122.3973  ,\n",
       "       122.15619 , 120.487564, 119.62682 , 118.63263 , 117.82013 ,\n",
       "       117.14865 , 118.65131 , 119.47863 , 120.23496 , 120.64972 ,\n",
       "       121.11954 , 121.08596 , 120.69091 , 120.47029 , 120.60869 ,\n",
       "       120.420616, 120.214966, 120.11824 , 120.15269 , 120.00001 ,\n",
       "       120.261856, 120.39226 , 120.27545 , 119.73385 , 119.73725 ,\n",
       "       119.52797 , 120.47142 , 122.00265 , 123.65701 , 124.632065,\n",
       "       124.81481 , 123.66152 , 122.731926, 122.29313 , 122.09014 ,\n",
       "       123.02691 , 123.76466 , 123.92071 , 123.84893 , 124.360504,\n",
       "       125.40697 , 126.47556 , 126.78492 , 126.76497 , 126.21723 ,\n",
       "       124.99073 , 123.947556, 124.01753 , 124.13755 , 124.33778 ,\n",
       "       125.39988 , 127.00951 , 128.47429 , 129.85693 , 130.79967 ,\n",
       "       131.36443 , 131.8052  , 132.2036  , 132.43402 , 132.62013 ,\n",
       "       132.55818 , 132.20482 , 131.95963 , 131.95921 , 131.87799 ,\n",
       "       131.79462 , 131.50465 , 131.19511 , 131.01619 , 130.93451 ,\n",
       "       131.01682 , 131.48598 , 132.23396 , 133.63177 , 135.19511 ,\n",
       "       136.53148 , 137.46645 , 137.45839 , 136.91266 , 136.26524 ,\n",
       "       135.57524 , 135.12631 , 135.333   , 135.47037 , 135.26549 ,\n",
       "       135.07489 , 134.94432 , 134.69788 , 134.33282 , 134.27844 ,\n",
       "       134.26004 , 134.26047 , 134.52397 , 135.1489  , 135.73592 ,\n",
       "       136.45769 , 137.1089  , 137.39766 , 136.78981 , 136.1165  ,\n",
       "       134.95053 , 133.68124 , 132.37865 , 131.65088 , 130.96729 ,\n",
       "       130.84242 , 131.25055 , 132.45941 , 133.9356  , 135.70627 ,\n",
       "       137.29347 , 138.25606 , 137.80731 , 136.59305 , 135.14049 ,\n",
       "       133.89536 , 132.7278  , 132.61331 , 132.97751 , 133.20317 ,\n",
       "       132.82594 , 132.72191 , 133.02213 , 133.51694 , 134.12523 ,\n",
       "       135.02527 , 135.60893 , 135.4925  , 135.3695  , 135.02939 ,\n",
       "       134.50006 , 134.2026  , 134.34833 , 134.50601 , 134.54178 ,\n",
       "       134.80957 , 134.7565  , 134.72574 , 134.62372 , 134.97984 ,\n",
       "       135.21716 , 135.64622 , 135.72197 , 135.68684 , 135.64104 ,\n",
       "       135.78117 , 135.62898 , 135.67418 , 135.56117 , 135.52036 ,\n",
       "       135.33105 , 135.40628 , 135.44214 , 135.36586 , 135.1853  ,\n",
       "       134.92606 , 134.5901  , 134.13795 , 133.9793  , 133.8013  ,\n",
       "       133.85542 , 134.11569 , 134.36252 , 134.57642 , 134.51956 ,\n",
       "       134.11409 , 133.30484 , 132.80167 , 133.11609 , 133.71324 ,\n",
       "       134.40222 , 135.12207 , 135.59981 , 135.54391 , 135.3864  ,\n",
       "       135.41006 , 135.23405 , 134.91988 , 134.73572 , 134.8913  ,\n",
       "       134.77318 , 135.08524 , 135.44916 , 135.53206 , 135.3288  ,\n",
       "       135.42822 , 135.34773 , 135.41833 , 135.34773 , 135.12956 ,\n",
       "       134.4084  , 133.7567  , 133.31583 , 133.10611 , 133.17036 ,\n",
       "       133.7088  , 134.13783 , 134.216   , 134.2597  , 134.51009 ,\n",
       "       134.70259 , 134.87314 , 135.13724 , 135.38156 , 135.31041 ,\n",
       "       134.84789 , 134.45963 , 134.13765 , 133.76949 , 133.63988 ,\n",
       "       133.72742 , 133.68907 , 133.30424 , 133.24405 , 133.32585 ,\n",
       "       133.61389 , 134.20134 , 134.66768 , 134.28194 , 133.33101 ,\n",
       "       132.36479 , 131.67455 , 131.30177 , 131.24698 , 130.71698 ,\n",
       "       129.9902  , 129.24216 , 128.6789  , 128.3221  , 129.12823 ,\n",
       "       129.79414 , 129.8562  , 129.9024  , 129.95316 , 130.01245 ,\n",
       "       129.91583 , 129.79936 , 129.55608 , 129.63116 , 130.30994 ,\n",
       "       130.40105 , 130.61868 , 131.19469 , 131.42458 , 130.79245 ,\n",
       "       130.61923 , 130.35742 , 130.12102 , 129.9642  , 130.1385  ,\n",
       "       130.71219 , 131.0157  , 130.03333 , 128.63365 , 128.54079 ,\n",
       "       128.49553 , 128.59474 , 129.70795 , 131.05931 , 130.83846 ,\n",
       "       130.28467 , 129.61667 , 129.25642 , 128.93095 , 128.78847 ,\n",
       "       129.2142  , 129.28163 , 129.04457 , 128.56885 , 127.83467 ,\n",
       "       126.617165, 125.689156, 124.71806 , 124.26819 , 124.083534,\n",
       "       124.528404, 124.9425  , 125.164055, 125.14744 , 125.17957 ,\n",
       "       125.43565 , 125.85458 , 126.32456 , 126.96922 , 127.957405,\n",
       "       128.8939  , 129.81107 , 130.73714 , 131.0127  , 130.60045 ,\n",
       "       130.19806 , 130.0596  , 129.8163  , 130.22638 , 130.34886 ,\n",
       "       130.4062  ], dtype=float32)"
      ]
     },
     "execution_count": 34,
     "metadata": {},
     "output_type": "execute_result"
    }
   ],
   "source": [
    "predicted_values.flatten()"
   ]
  },
  {
   "cell_type": "code",
   "execution_count": 36,
   "id": "6e39a1b6",
   "metadata": {},
   "outputs": [
    {
     "data": {
      "image/png": "[encoded data removed]",
      "text/plain": [
       "<Figure size 1200x600 with 1 Axes>"
      ]
     },
     "metadata": {},
     "output_type": "display_data"
    }
   ],
   "source": [
    "plt.figure(figsize=(12, 6))\n",
    "plt.plot(df['date'], df['A'], label='Actual')\n",
    "plt.plot(df['date'][:-5], predicted_values.flatten(), label='Predicted', linestyle='--')\n",
    "plt.title('LSTM Predictions vs Actual')\n",
    "plt.xlabel('Date')\n",
    "plt.ylabel('Price')\n",
    "plt.xticks(rotation=45)\n",
    "plt.legend()\n",
    "plt.tight_layout()\n",
    "plt.show()\n"
   ]
  },
  {
   "cell_type": "code",
   "execution_count": 39,
   "id": "9a1842d5",
   "metadata": {},
   "outputs": [],
   "source": [
    "myarray = np.array([[[0.02],[0.03],[0.001],[0.009],[0.006]]])"
   ]
  },
  {
   "cell_type": "code",
   "execution_count": 40,
   "id": "c2a4153b",
   "metadata": {},
   "outputs": [
    {
     "data": {
      "text/plain": [
       "(1, 5, 1)"
      ]
     },
     "execution_count": 40,
     "metadata": {},
     "output_type": "execute_result"
    }
   ],
   "source": [
    "myarray.shape"
   ]
  },
  {
   "cell_type": "code",
   "execution_count": 41,
   "id": "c6423e9a",
   "metadata": {},
   "outputs": [
    {
     "name": "stdout",
     "output_type": "stream",
     "text": [
      "\u001b[1m1/1\u001b[0m \u001b[32m━━━━━━━━━━━━━━━━━━━━\u001b[0m\u001b[37m\u001b[0m \u001b[1m0s\u001b[0m 121ms/step\n"
     ]
    }
   ],
   "source": [
    "mypred = model.predict(myarray)"
   ]
  },
  {
   "cell_type": "code",
   "execution_count": 51,
   "id": "ddf7029a",
   "metadata": {},
   "outputs": [
    {
     "name": "stdout",
     "output_type": "stream",
     "text": [
      "My prediction: 109.05698\n"
     ]
    }
   ],
   "source": [
    "act = scaler.inverse_transform(mypred)\n",
    "print('My prediction:',act[0][0])"
   ]
  },
  {
   "cell_type": "code",
   "execution_count": null,
   "id": "c4676827",
   "metadata": {},
   "outputs": [],
   "source": []
  }
 ],
 "metadata": {
  "kernelspec": {
   "display_name": "Python 3",
   "language": "python",
   "name": "python3"
  },
  "language_info": {
   "codemirror_mode": {
    "name": "ipython",
    "version": 3
   },
   "file_extension": ".py",
   "mimetype": "text/x-python",
   "name": "python",
   "nbconvert_exporter": "python",
   "pygments_lexer": "ipython3",
   "version": "3.12.4"
  }
 },
 "nbformat": 4,
 "nbformat_minor": 5
}
